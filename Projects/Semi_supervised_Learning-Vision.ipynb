{
 "cells": [
  {
   "cell_type": "markdown",
   "id": "adjusted-insulation",
   "metadata": {},
   "source": [
    "# PROJECT: MACHINE LEARNNG\n",
    "## Semi-supervised Learning"
   ]
  },
  {
   "cell_type": "code",
   "execution_count": null,
   "id": "front-staff",
   "metadata": {},
   "outputs": [],
   "source": [
    "from IPython.core.interactiveshell import InteractiveShell\n",
    "InteractiveShell.ast_node_interactivity = \"all\""
   ]
  },
  {
   "cell_type": "code",
   "execution_count": 2,
   "id": "liquid-allah",
   "metadata": {},
   "outputs": [],
   "source": [
    "from sklearn.datasets import load_digits\n",
    "from sklearn.cluster import KMeans\n",
    "import numpy as np\n",
    "import matplotlib.image as mpimg\n",
    "import matplotlib.pyplot as plt\n",
    "import pandas as pd\n",
    "\n",
    "from sklearn.model_selection import train_test_split\n",
    "\n",
    "from sklearn.model_selection import RepeatedStratifiedKFold\n",
    "from sklearn.svm import SVC\n",
    "from sklearn.model_selection import cross_val_score\n",
    "from sklearn.model_selection import cross_validate\n",
    "from sklearn.metrics import f1_score, precision_score, recall_score\n",
    "from sklearn.model_selection import GridSearchCV\n",
    "from sklearn import metrics\n",
    "from sklearn.metrics import confusion_matrix, accuracy_score\n",
    "from sklearn.preprocessing import MinMaxScaler\n",
    "\n",
    "from sklearn.decomposition import PCA"
   ]
  },
  {
   "cell_type": "code",
   "execution_count": 93,
   "id": "polished-seven",
   "metadata": {},
   "outputs": [
    {
     "data": {
      "text/html": [
       "<div>\n",
       "<style scoped>\n",
       "    .dataframe tbody tr th:only-of-type {\n",
       "        vertical-align: middle;\n",
       "    }\n",
       "\n",
       "    .dataframe tbody tr th {\n",
       "        vertical-align: top;\n",
       "    }\n",
       "\n",
       "    .dataframe thead th {\n",
       "        text-align: right;\n",
       "    }\n",
       "</style>\n",
       "<table border=\"1\" class=\"dataframe\">\n",
       "  <thead>\n",
       "    <tr style=\"text-align: right;\">\n",
       "      <th></th>\n",
       "      <th>pixel_0_0</th>\n",
       "      <th>pixel_0_1</th>\n",
       "      <th>pixel_0_2</th>\n",
       "      <th>pixel_0_3</th>\n",
       "      <th>pixel_0_4</th>\n",
       "      <th>pixel_0_5</th>\n",
       "      <th>pixel_0_6</th>\n",
       "      <th>pixel_0_7</th>\n",
       "      <th>pixel_1_0</th>\n",
       "      <th>pixel_1_1</th>\n",
       "      <th>...</th>\n",
       "      <th>pixel_6_6</th>\n",
       "      <th>pixel_6_7</th>\n",
       "      <th>pixel_7_0</th>\n",
       "      <th>pixel_7_1</th>\n",
       "      <th>pixel_7_2</th>\n",
       "      <th>pixel_7_3</th>\n",
       "      <th>pixel_7_4</th>\n",
       "      <th>pixel_7_5</th>\n",
       "      <th>pixel_7_6</th>\n",
       "      <th>pixel_7_7</th>\n",
       "    </tr>\n",
       "  </thead>\n",
       "  <tbody>\n",
       "    <tr>\n",
       "      <th>0</th>\n",
       "      <td>0.0</td>\n",
       "      <td>0.0</td>\n",
       "      <td>5.0</td>\n",
       "      <td>13.0</td>\n",
       "      <td>9.0</td>\n",
       "      <td>1.0</td>\n",
       "      <td>0.0</td>\n",
       "      <td>0.0</td>\n",
       "      <td>0.0</td>\n",
       "      <td>0.0</td>\n",
       "      <td>...</td>\n",
       "      <td>0.0</td>\n",
       "      <td>0.0</td>\n",
       "      <td>0.0</td>\n",
       "      <td>0.0</td>\n",
       "      <td>6.0</td>\n",
       "      <td>13.0</td>\n",
       "      <td>10.0</td>\n",
       "      <td>0.0</td>\n",
       "      <td>0.0</td>\n",
       "      <td>0.0</td>\n",
       "    </tr>\n",
       "    <tr>\n",
       "      <th>1</th>\n",
       "      <td>0.0</td>\n",
       "      <td>0.0</td>\n",
       "      <td>0.0</td>\n",
       "      <td>12.0</td>\n",
       "      <td>13.0</td>\n",
       "      <td>5.0</td>\n",
       "      <td>0.0</td>\n",
       "      <td>0.0</td>\n",
       "      <td>0.0</td>\n",
       "      <td>0.0</td>\n",
       "      <td>...</td>\n",
       "      <td>0.0</td>\n",
       "      <td>0.0</td>\n",
       "      <td>0.0</td>\n",
       "      <td>0.0</td>\n",
       "      <td>0.0</td>\n",
       "      <td>11.0</td>\n",
       "      <td>16.0</td>\n",
       "      <td>10.0</td>\n",
       "      <td>0.0</td>\n",
       "      <td>0.0</td>\n",
       "    </tr>\n",
       "    <tr>\n",
       "      <th>2</th>\n",
       "      <td>0.0</td>\n",
       "      <td>0.0</td>\n",
       "      <td>0.0</td>\n",
       "      <td>4.0</td>\n",
       "      <td>15.0</td>\n",
       "      <td>12.0</td>\n",
       "      <td>0.0</td>\n",
       "      <td>0.0</td>\n",
       "      <td>0.0</td>\n",
       "      <td>0.0</td>\n",
       "      <td>...</td>\n",
       "      <td>5.0</td>\n",
       "      <td>0.0</td>\n",
       "      <td>0.0</td>\n",
       "      <td>0.0</td>\n",
       "      <td>0.0</td>\n",
       "      <td>3.0</td>\n",
       "      <td>11.0</td>\n",
       "      <td>16.0</td>\n",
       "      <td>9.0</td>\n",
       "      <td>0.0</td>\n",
       "    </tr>\n",
       "    <tr>\n",
       "      <th>3</th>\n",
       "      <td>0.0</td>\n",
       "      <td>0.0</td>\n",
       "      <td>7.0</td>\n",
       "      <td>15.0</td>\n",
       "      <td>13.0</td>\n",
       "      <td>1.0</td>\n",
       "      <td>0.0</td>\n",
       "      <td>0.0</td>\n",
       "      <td>0.0</td>\n",
       "      <td>8.0</td>\n",
       "      <td>...</td>\n",
       "      <td>9.0</td>\n",
       "      <td>0.0</td>\n",
       "      <td>0.0</td>\n",
       "      <td>0.0</td>\n",
       "      <td>7.0</td>\n",
       "      <td>13.0</td>\n",
       "      <td>13.0</td>\n",
       "      <td>9.0</td>\n",
       "      <td>0.0</td>\n",
       "      <td>0.0</td>\n",
       "    </tr>\n",
       "    <tr>\n",
       "      <th>4</th>\n",
       "      <td>0.0</td>\n",
       "      <td>0.0</td>\n",
       "      <td>0.0</td>\n",
       "      <td>1.0</td>\n",
       "      <td>11.0</td>\n",
       "      <td>0.0</td>\n",
       "      <td>0.0</td>\n",
       "      <td>0.0</td>\n",
       "      <td>0.0</td>\n",
       "      <td>0.0</td>\n",
       "      <td>...</td>\n",
       "      <td>0.0</td>\n",
       "      <td>0.0</td>\n",
       "      <td>0.0</td>\n",
       "      <td>0.0</td>\n",
       "      <td>0.0</td>\n",
       "      <td>2.0</td>\n",
       "      <td>16.0</td>\n",
       "      <td>4.0</td>\n",
       "      <td>0.0</td>\n",
       "      <td>0.0</td>\n",
       "    </tr>\n",
       "    <tr>\n",
       "      <th>...</th>\n",
       "      <td>...</td>\n",
       "      <td>...</td>\n",
       "      <td>...</td>\n",
       "      <td>...</td>\n",
       "      <td>...</td>\n",
       "      <td>...</td>\n",
       "      <td>...</td>\n",
       "      <td>...</td>\n",
       "      <td>...</td>\n",
       "      <td>...</td>\n",
       "      <td>...</td>\n",
       "      <td>...</td>\n",
       "      <td>...</td>\n",
       "      <td>...</td>\n",
       "      <td>...</td>\n",
       "      <td>...</td>\n",
       "      <td>...</td>\n",
       "      <td>...</td>\n",
       "      <td>...</td>\n",
       "      <td>...</td>\n",
       "      <td>...</td>\n",
       "    </tr>\n",
       "    <tr>\n",
       "      <th>1792</th>\n",
       "      <td>0.0</td>\n",
       "      <td>0.0</td>\n",
       "      <td>4.0</td>\n",
       "      <td>10.0</td>\n",
       "      <td>13.0</td>\n",
       "      <td>6.0</td>\n",
       "      <td>0.0</td>\n",
       "      <td>0.0</td>\n",
       "      <td>0.0</td>\n",
       "      <td>1.0</td>\n",
       "      <td>...</td>\n",
       "      <td>4.0</td>\n",
       "      <td>0.0</td>\n",
       "      <td>0.0</td>\n",
       "      <td>0.0</td>\n",
       "      <td>2.0</td>\n",
       "      <td>14.0</td>\n",
       "      <td>15.0</td>\n",
       "      <td>9.0</td>\n",
       "      <td>0.0</td>\n",
       "      <td>0.0</td>\n",
       "    </tr>\n",
       "    <tr>\n",
       "      <th>1793</th>\n",
       "      <td>0.0</td>\n",
       "      <td>0.0</td>\n",
       "      <td>6.0</td>\n",
       "      <td>16.0</td>\n",
       "      <td>13.0</td>\n",
       "      <td>11.0</td>\n",
       "      <td>1.0</td>\n",
       "      <td>0.0</td>\n",
       "      <td>0.0</td>\n",
       "      <td>0.0</td>\n",
       "      <td>...</td>\n",
       "      <td>1.0</td>\n",
       "      <td>0.0</td>\n",
       "      <td>0.0</td>\n",
       "      <td>0.0</td>\n",
       "      <td>6.0</td>\n",
       "      <td>16.0</td>\n",
       "      <td>14.0</td>\n",
       "      <td>6.0</td>\n",
       "      <td>0.0</td>\n",
       "      <td>0.0</td>\n",
       "    </tr>\n",
       "    <tr>\n",
       "      <th>1794</th>\n",
       "      <td>0.0</td>\n",
       "      <td>0.0</td>\n",
       "      <td>1.0</td>\n",
       "      <td>11.0</td>\n",
       "      <td>15.0</td>\n",
       "      <td>1.0</td>\n",
       "      <td>0.0</td>\n",
       "      <td>0.0</td>\n",
       "      <td>0.0</td>\n",
       "      <td>0.0</td>\n",
       "      <td>...</td>\n",
       "      <td>0.0</td>\n",
       "      <td>0.0</td>\n",
       "      <td>0.0</td>\n",
       "      <td>0.0</td>\n",
       "      <td>2.0</td>\n",
       "      <td>9.0</td>\n",
       "      <td>13.0</td>\n",
       "      <td>6.0</td>\n",
       "      <td>0.0</td>\n",
       "      <td>0.0</td>\n",
       "    </tr>\n",
       "    <tr>\n",
       "      <th>1795</th>\n",
       "      <td>0.0</td>\n",
       "      <td>0.0</td>\n",
       "      <td>2.0</td>\n",
       "      <td>10.0</td>\n",
       "      <td>7.0</td>\n",
       "      <td>0.0</td>\n",
       "      <td>0.0</td>\n",
       "      <td>0.0</td>\n",
       "      <td>0.0</td>\n",
       "      <td>0.0</td>\n",
       "      <td>...</td>\n",
       "      <td>2.0</td>\n",
       "      <td>0.0</td>\n",
       "      <td>0.0</td>\n",
       "      <td>0.0</td>\n",
       "      <td>5.0</td>\n",
       "      <td>12.0</td>\n",
       "      <td>16.0</td>\n",
       "      <td>12.0</td>\n",
       "      <td>0.0</td>\n",
       "      <td>0.0</td>\n",
       "    </tr>\n",
       "    <tr>\n",
       "      <th>1796</th>\n",
       "      <td>0.0</td>\n",
       "      <td>0.0</td>\n",
       "      <td>10.0</td>\n",
       "      <td>14.0</td>\n",
       "      <td>8.0</td>\n",
       "      <td>1.0</td>\n",
       "      <td>0.0</td>\n",
       "      <td>0.0</td>\n",
       "      <td>0.0</td>\n",
       "      <td>2.0</td>\n",
       "      <td>...</td>\n",
       "      <td>8.0</td>\n",
       "      <td>0.0</td>\n",
       "      <td>0.0</td>\n",
       "      <td>1.0</td>\n",
       "      <td>8.0</td>\n",
       "      <td>12.0</td>\n",
       "      <td>14.0</td>\n",
       "      <td>12.0</td>\n",
       "      <td>1.0</td>\n",
       "      <td>0.0</td>\n",
       "    </tr>\n",
       "  </tbody>\n",
       "</table>\n",
       "<p>1797 rows × 64 columns</p>\n",
       "</div>"
      ],
      "text/plain": [
       "      pixel_0_0  pixel_0_1  pixel_0_2  pixel_0_3  pixel_0_4  pixel_0_5  \\\n",
       "0           0.0        0.0        5.0       13.0        9.0        1.0   \n",
       "1           0.0        0.0        0.0       12.0       13.0        5.0   \n",
       "2           0.0        0.0        0.0        4.0       15.0       12.0   \n",
       "3           0.0        0.0        7.0       15.0       13.0        1.0   \n",
       "4           0.0        0.0        0.0        1.0       11.0        0.0   \n",
       "...         ...        ...        ...        ...        ...        ...   \n",
       "1792        0.0        0.0        4.0       10.0       13.0        6.0   \n",
       "1793        0.0        0.0        6.0       16.0       13.0       11.0   \n",
       "1794        0.0        0.0        1.0       11.0       15.0        1.0   \n",
       "1795        0.0        0.0        2.0       10.0        7.0        0.0   \n",
       "1796        0.0        0.0       10.0       14.0        8.0        1.0   \n",
       "\n",
       "      pixel_0_6  pixel_0_7  pixel_1_0  pixel_1_1  ...  pixel_6_6  pixel_6_7  \\\n",
       "0           0.0        0.0        0.0        0.0  ...        0.0        0.0   \n",
       "1           0.0        0.0        0.0        0.0  ...        0.0        0.0   \n",
       "2           0.0        0.0        0.0        0.0  ...        5.0        0.0   \n",
       "3           0.0        0.0        0.0        8.0  ...        9.0        0.0   \n",
       "4           0.0        0.0        0.0        0.0  ...        0.0        0.0   \n",
       "...         ...        ...        ...        ...  ...        ...        ...   \n",
       "1792        0.0        0.0        0.0        1.0  ...        4.0        0.0   \n",
       "1793        1.0        0.0        0.0        0.0  ...        1.0        0.0   \n",
       "1794        0.0        0.0        0.0        0.0  ...        0.0        0.0   \n",
       "1795        0.0        0.0        0.0        0.0  ...        2.0        0.0   \n",
       "1796        0.0        0.0        0.0        2.0  ...        8.0        0.0   \n",
       "\n",
       "      pixel_7_0  pixel_7_1  pixel_7_2  pixel_7_3  pixel_7_4  pixel_7_5  \\\n",
       "0           0.0        0.0        6.0       13.0       10.0        0.0   \n",
       "1           0.0        0.0        0.0       11.0       16.0       10.0   \n",
       "2           0.0        0.0        0.0        3.0       11.0       16.0   \n",
       "3           0.0        0.0        7.0       13.0       13.0        9.0   \n",
       "4           0.0        0.0        0.0        2.0       16.0        4.0   \n",
       "...         ...        ...        ...        ...        ...        ...   \n",
       "1792        0.0        0.0        2.0       14.0       15.0        9.0   \n",
       "1793        0.0        0.0        6.0       16.0       14.0        6.0   \n",
       "1794        0.0        0.0        2.0        9.0       13.0        6.0   \n",
       "1795        0.0        0.0        5.0       12.0       16.0       12.0   \n",
       "1796        0.0        1.0        8.0       12.0       14.0       12.0   \n",
       "\n",
       "      pixel_7_6  pixel_7_7  \n",
       "0           0.0        0.0  \n",
       "1           0.0        0.0  \n",
       "2           9.0        0.0  \n",
       "3           0.0        0.0  \n",
       "4           0.0        0.0  \n",
       "...         ...        ...  \n",
       "1792        0.0        0.0  \n",
       "1793        0.0        0.0  \n",
       "1794        0.0        0.0  \n",
       "1795        0.0        0.0  \n",
       "1796        1.0        0.0  \n",
       "\n",
       "[1797 rows x 64 columns]"
      ]
     },
     "execution_count": 93,
     "metadata": {},
     "output_type": "execute_result"
    }
   ],
   "source": [
    "# digits.images\n",
    "digits = load_digits()\n",
    "features = digits.feature_names\n",
    "X = pd.DataFrame(data=digits.data, columns=features)\n",
    "y = digits.target\n",
    "X\n"
   ]
  },
  {
   "cell_type": "code",
   "execution_count": 4,
   "id": "composed-setup",
   "metadata": {},
   "outputs": [],
   "source": [
    "scaler = MinMaxScaler(feature_range=(0, 1))\n",
    "\n",
    "X_train, X_test, y_train, y_test = train_test_split(\n",
    "    scaler.fit_transform(X), y, test_size=0.2, random_state=5\n",
    ")\n",
    "\n",
    "\n",
    "\n",
    "\n"
   ]
  },
  {
   "cell_type": "code",
   "execution_count": 6,
   "id": "above-sweden",
   "metadata": {
    "scrolled": false,
    "slideshow": {
     "slide_type": "-"
    }
   },
   "outputs": [
    {
     "data": {
      "text/html": [
       "<div>\n",
       "<style scoped>\n",
       "    .dataframe tbody tr th:only-of-type {\n",
       "        vertical-align: middle;\n",
       "    }\n",
       "\n",
       "    .dataframe tbody tr th {\n",
       "        vertical-align: top;\n",
       "    }\n",
       "\n",
       "    .dataframe thead th {\n",
       "        text-align: right;\n",
       "    }\n",
       "</style>\n",
       "<table border=\"1\" class=\"dataframe\">\n",
       "  <thead>\n",
       "    <tr style=\"text-align: right;\">\n",
       "      <th></th>\n",
       "      <th>0</th>\n",
       "      <th>1</th>\n",
       "      <th>2</th>\n",
       "      <th>3</th>\n",
       "      <th>4</th>\n",
       "      <th>5</th>\n",
       "      <th>6</th>\n",
       "      <th>7</th>\n",
       "      <th>8</th>\n",
       "      <th>9</th>\n",
       "      <th>...</th>\n",
       "      <th>54</th>\n",
       "      <th>55</th>\n",
       "      <th>56</th>\n",
       "      <th>57</th>\n",
       "      <th>58</th>\n",
       "      <th>59</th>\n",
       "      <th>60</th>\n",
       "      <th>61</th>\n",
       "      <th>62</th>\n",
       "      <th>63</th>\n",
       "    </tr>\n",
       "  </thead>\n",
       "  <tbody>\n",
       "    <tr>\n",
       "      <th>0</th>\n",
       "      <td>0.0</td>\n",
       "      <td>0.000</td>\n",
       "      <td>0.6250</td>\n",
       "      <td>0.9375</td>\n",
       "      <td>0.4375</td>\n",
       "      <td>0.0000</td>\n",
       "      <td>0.00</td>\n",
       "      <td>0.0</td>\n",
       "      <td>0.0</td>\n",
       "      <td>0.2500</td>\n",
       "      <td>...</td>\n",
       "      <td>0.0000</td>\n",
       "      <td>0.000000</td>\n",
       "      <td>0.0</td>\n",
       "      <td>0.111111</td>\n",
       "      <td>0.7500</td>\n",
       "      <td>0.9375</td>\n",
       "      <td>0.7500</td>\n",
       "      <td>0.1875</td>\n",
       "      <td>0.0000</td>\n",
       "      <td>0.0000</td>\n",
       "    </tr>\n",
       "    <tr>\n",
       "      <th>1</th>\n",
       "      <td>0.0</td>\n",
       "      <td>0.000</td>\n",
       "      <td>0.4375</td>\n",
       "      <td>0.7500</td>\n",
       "      <td>0.8125</td>\n",
       "      <td>0.1250</td>\n",
       "      <td>0.00</td>\n",
       "      <td>0.0</td>\n",
       "      <td>0.0</td>\n",
       "      <td>0.0000</td>\n",
       "      <td>...</td>\n",
       "      <td>0.0625</td>\n",
       "      <td>0.000000</td>\n",
       "      <td>0.0</td>\n",
       "      <td>0.000000</td>\n",
       "      <td>0.3750</td>\n",
       "      <td>0.8750</td>\n",
       "      <td>0.8750</td>\n",
       "      <td>0.2500</td>\n",
       "      <td>0.0000</td>\n",
       "      <td>0.0000</td>\n",
       "    </tr>\n",
       "    <tr>\n",
       "      <th>2</th>\n",
       "      <td>0.0</td>\n",
       "      <td>0.000</td>\n",
       "      <td>0.4375</td>\n",
       "      <td>0.8750</td>\n",
       "      <td>0.5000</td>\n",
       "      <td>0.2500</td>\n",
       "      <td>0.00</td>\n",
       "      <td>0.0</td>\n",
       "      <td>0.0</td>\n",
       "      <td>0.0000</td>\n",
       "      <td>...</td>\n",
       "      <td>0.0000</td>\n",
       "      <td>0.000000</td>\n",
       "      <td>0.0</td>\n",
       "      <td>0.000000</td>\n",
       "      <td>0.3750</td>\n",
       "      <td>0.8125</td>\n",
       "      <td>0.4375</td>\n",
       "      <td>0.0000</td>\n",
       "      <td>0.0000</td>\n",
       "      <td>0.0000</td>\n",
       "    </tr>\n",
       "    <tr>\n",
       "      <th>3</th>\n",
       "      <td>0.0</td>\n",
       "      <td>0.125</td>\n",
       "      <td>0.5000</td>\n",
       "      <td>0.7500</td>\n",
       "      <td>0.9375</td>\n",
       "      <td>0.8750</td>\n",
       "      <td>0.25</td>\n",
       "      <td>0.0</td>\n",
       "      <td>0.0</td>\n",
       "      <td>0.1875</td>\n",
       "      <td>...</td>\n",
       "      <td>0.0000</td>\n",
       "      <td>0.000000</td>\n",
       "      <td>0.0</td>\n",
       "      <td>0.000000</td>\n",
       "      <td>0.8750</td>\n",
       "      <td>0.9375</td>\n",
       "      <td>0.6875</td>\n",
       "      <td>0.1250</td>\n",
       "      <td>0.0000</td>\n",
       "      <td>0.0000</td>\n",
       "    </tr>\n",
       "    <tr>\n",
       "      <th>4</th>\n",
       "      <td>0.0</td>\n",
       "      <td>0.375</td>\n",
       "      <td>1.0000</td>\n",
       "      <td>0.9375</td>\n",
       "      <td>0.3750</td>\n",
       "      <td>0.0000</td>\n",
       "      <td>0.00</td>\n",
       "      <td>0.0</td>\n",
       "      <td>0.0</td>\n",
       "      <td>0.3125</td>\n",
       "      <td>...</td>\n",
       "      <td>0.3125</td>\n",
       "      <td>0.000000</td>\n",
       "      <td>0.0</td>\n",
       "      <td>0.444444</td>\n",
       "      <td>1.0000</td>\n",
       "      <td>1.0000</td>\n",
       "      <td>1.0000</td>\n",
       "      <td>0.8750</td>\n",
       "      <td>0.1875</td>\n",
       "      <td>0.0000</td>\n",
       "    </tr>\n",
       "    <tr>\n",
       "      <th>...</th>\n",
       "      <td>...</td>\n",
       "      <td>...</td>\n",
       "      <td>...</td>\n",
       "      <td>...</td>\n",
       "      <td>...</td>\n",
       "      <td>...</td>\n",
       "      <td>...</td>\n",
       "      <td>...</td>\n",
       "      <td>...</td>\n",
       "      <td>...</td>\n",
       "      <td>...</td>\n",
       "      <td>...</td>\n",
       "      <td>...</td>\n",
       "      <td>...</td>\n",
       "      <td>...</td>\n",
       "      <td>...</td>\n",
       "      <td>...</td>\n",
       "      <td>...</td>\n",
       "      <td>...</td>\n",
       "      <td>...</td>\n",
       "      <td>...</td>\n",
       "    </tr>\n",
       "    <tr>\n",
       "      <th>1432</th>\n",
       "      <td>0.0</td>\n",
       "      <td>0.000</td>\n",
       "      <td>0.3125</td>\n",
       "      <td>1.0000</td>\n",
       "      <td>0.9375</td>\n",
       "      <td>0.1875</td>\n",
       "      <td>0.00</td>\n",
       "      <td>0.0</td>\n",
       "      <td>0.0</td>\n",
       "      <td>0.0000</td>\n",
       "      <td>...</td>\n",
       "      <td>0.8125</td>\n",
       "      <td>0.230769</td>\n",
       "      <td>0.0</td>\n",
       "      <td>0.000000</td>\n",
       "      <td>0.3125</td>\n",
       "      <td>0.1250</td>\n",
       "      <td>0.5625</td>\n",
       "      <td>1.0000</td>\n",
       "      <td>0.8750</td>\n",
       "      <td>0.1875</td>\n",
       "    </tr>\n",
       "    <tr>\n",
       "      <th>1433</th>\n",
       "      <td>0.0</td>\n",
       "      <td>0.000</td>\n",
       "      <td>0.0000</td>\n",
       "      <td>0.0625</td>\n",
       "      <td>0.9375</td>\n",
       "      <td>0.1875</td>\n",
       "      <td>0.00</td>\n",
       "      <td>0.0</td>\n",
       "      <td>0.0</td>\n",
       "      <td>0.0000</td>\n",
       "      <td>...</td>\n",
       "      <td>0.0000</td>\n",
       "      <td>0.000000</td>\n",
       "      <td>0.0</td>\n",
       "      <td>0.000000</td>\n",
       "      <td>0.0000</td>\n",
       "      <td>0.1250</td>\n",
       "      <td>1.0000</td>\n",
       "      <td>0.3750</td>\n",
       "      <td>0.0000</td>\n",
       "      <td>0.0000</td>\n",
       "    </tr>\n",
       "    <tr>\n",
       "      <th>1434</th>\n",
       "      <td>0.0</td>\n",
       "      <td>0.000</td>\n",
       "      <td>0.0625</td>\n",
       "      <td>0.8125</td>\n",
       "      <td>0.5625</td>\n",
       "      <td>0.0000</td>\n",
       "      <td>0.00</td>\n",
       "      <td>0.0</td>\n",
       "      <td>0.0</td>\n",
       "      <td>0.0000</td>\n",
       "      <td>...</td>\n",
       "      <td>0.5000</td>\n",
       "      <td>0.000000</td>\n",
       "      <td>0.0</td>\n",
       "      <td>0.000000</td>\n",
       "      <td>0.1250</td>\n",
       "      <td>0.8750</td>\n",
       "      <td>0.9375</td>\n",
       "      <td>0.3750</td>\n",
       "      <td>0.0000</td>\n",
       "      <td>0.0000</td>\n",
       "    </tr>\n",
       "    <tr>\n",
       "      <th>1435</th>\n",
       "      <td>0.0</td>\n",
       "      <td>0.000</td>\n",
       "      <td>0.6250</td>\n",
       "      <td>0.8125</td>\n",
       "      <td>0.0000</td>\n",
       "      <td>0.0000</td>\n",
       "      <td>0.00</td>\n",
       "      <td>0.0</td>\n",
       "      <td>0.0</td>\n",
       "      <td>0.0000</td>\n",
       "      <td>...</td>\n",
       "      <td>0.0000</td>\n",
       "      <td>0.000000</td>\n",
       "      <td>0.0</td>\n",
       "      <td>0.000000</td>\n",
       "      <td>0.6875</td>\n",
       "      <td>1.0000</td>\n",
       "      <td>0.8125</td>\n",
       "      <td>0.0625</td>\n",
       "      <td>0.0000</td>\n",
       "      <td>0.0000</td>\n",
       "    </tr>\n",
       "    <tr>\n",
       "      <th>1436</th>\n",
       "      <td>0.0</td>\n",
       "      <td>0.000</td>\n",
       "      <td>0.6250</td>\n",
       "      <td>1.0000</td>\n",
       "      <td>1.0000</td>\n",
       "      <td>0.2500</td>\n",
       "      <td>0.00</td>\n",
       "      <td>0.0</td>\n",
       "      <td>0.0</td>\n",
       "      <td>0.0000</td>\n",
       "      <td>...</td>\n",
       "      <td>0.1250</td>\n",
       "      <td>0.000000</td>\n",
       "      <td>0.0</td>\n",
       "      <td>0.000000</td>\n",
       "      <td>0.6875</td>\n",
       "      <td>1.0000</td>\n",
       "      <td>1.0000</td>\n",
       "      <td>0.6250</td>\n",
       "      <td>0.0000</td>\n",
       "      <td>0.0000</td>\n",
       "    </tr>\n",
       "  </tbody>\n",
       "</table>\n",
       "<p>1437 rows × 64 columns</p>\n",
       "</div>"
      ],
      "text/plain": [
       "       0      1       2       3       4       5     6    7    8       9   ...  \\\n",
       "0     0.0  0.000  0.6250  0.9375  0.4375  0.0000  0.00  0.0  0.0  0.2500  ...   \n",
       "1     0.0  0.000  0.4375  0.7500  0.8125  0.1250  0.00  0.0  0.0  0.0000  ...   \n",
       "2     0.0  0.000  0.4375  0.8750  0.5000  0.2500  0.00  0.0  0.0  0.0000  ...   \n",
       "3     0.0  0.125  0.5000  0.7500  0.9375  0.8750  0.25  0.0  0.0  0.1875  ...   \n",
       "4     0.0  0.375  1.0000  0.9375  0.3750  0.0000  0.00  0.0  0.0  0.3125  ...   \n",
       "...   ...    ...     ...     ...     ...     ...   ...  ...  ...     ...  ...   \n",
       "1432  0.0  0.000  0.3125  1.0000  0.9375  0.1875  0.00  0.0  0.0  0.0000  ...   \n",
       "1433  0.0  0.000  0.0000  0.0625  0.9375  0.1875  0.00  0.0  0.0  0.0000  ...   \n",
       "1434  0.0  0.000  0.0625  0.8125  0.5625  0.0000  0.00  0.0  0.0  0.0000  ...   \n",
       "1435  0.0  0.000  0.6250  0.8125  0.0000  0.0000  0.00  0.0  0.0  0.0000  ...   \n",
       "1436  0.0  0.000  0.6250  1.0000  1.0000  0.2500  0.00  0.0  0.0  0.0000  ...   \n",
       "\n",
       "          54        55   56        57      58      59      60      61      62  \\\n",
       "0     0.0000  0.000000  0.0  0.111111  0.7500  0.9375  0.7500  0.1875  0.0000   \n",
       "1     0.0625  0.000000  0.0  0.000000  0.3750  0.8750  0.8750  0.2500  0.0000   \n",
       "2     0.0000  0.000000  0.0  0.000000  0.3750  0.8125  0.4375  0.0000  0.0000   \n",
       "3     0.0000  0.000000  0.0  0.000000  0.8750  0.9375  0.6875  0.1250  0.0000   \n",
       "4     0.3125  0.000000  0.0  0.444444  1.0000  1.0000  1.0000  0.8750  0.1875   \n",
       "...      ...       ...  ...       ...     ...     ...     ...     ...     ...   \n",
       "1432  0.8125  0.230769  0.0  0.000000  0.3125  0.1250  0.5625  1.0000  0.8750   \n",
       "1433  0.0000  0.000000  0.0  0.000000  0.0000  0.1250  1.0000  0.3750  0.0000   \n",
       "1434  0.5000  0.000000  0.0  0.000000  0.1250  0.8750  0.9375  0.3750  0.0000   \n",
       "1435  0.0000  0.000000  0.0  0.000000  0.6875  1.0000  0.8125  0.0625  0.0000   \n",
       "1436  0.1250  0.000000  0.0  0.000000  0.6875  1.0000  1.0000  0.6250  0.0000   \n",
       "\n",
       "          63  \n",
       "0     0.0000  \n",
       "1     0.0000  \n",
       "2     0.0000  \n",
       "3     0.0000  \n",
       "4     0.0000  \n",
       "...      ...  \n",
       "1432  0.1875  \n",
       "1433  0.0000  \n",
       "1434  0.0000  \n",
       "1435  0.0000  \n",
       "1436  0.0000  \n",
       "\n",
       "[1437 rows x 64 columns]"
      ]
     },
     "execution_count": 6,
     "metadata": {},
     "output_type": "execute_result"
    }
   ],
   "source": [
    "X_train = pd.DataFrame(X_train)\n",
    "X_train\n"
   ]
  },
  {
   "cell_type": "code",
   "execution_count": 7,
   "id": "unavailable-trailer",
   "metadata": {},
   "outputs": [
    {
     "data": {
      "text/html": [
       "<div>\n",
       "<style scoped>\n",
       "    .dataframe tbody tr th:only-of-type {\n",
       "        vertical-align: middle;\n",
       "    }\n",
       "\n",
       "    .dataframe tbody tr th {\n",
       "        vertical-align: top;\n",
       "    }\n",
       "\n",
       "    .dataframe thead th {\n",
       "        text-align: right;\n",
       "    }\n",
       "</style>\n",
       "<table border=\"1\" class=\"dataframe\">\n",
       "  <thead>\n",
       "    <tr style=\"text-align: right;\">\n",
       "      <th></th>\n",
       "      <th>0</th>\n",
       "    </tr>\n",
       "  </thead>\n",
       "  <tbody>\n",
       "    <tr>\n",
       "      <th>0</th>\n",
       "      <td>9</td>\n",
       "    </tr>\n",
       "    <tr>\n",
       "      <th>1</th>\n",
       "      <td>0</td>\n",
       "    </tr>\n",
       "    <tr>\n",
       "      <th>2</th>\n",
       "      <td>0</td>\n",
       "    </tr>\n",
       "    <tr>\n",
       "      <th>3</th>\n",
       "      <td>3</td>\n",
       "    </tr>\n",
       "    <tr>\n",
       "      <th>4</th>\n",
       "      <td>2</td>\n",
       "    </tr>\n",
       "    <tr>\n",
       "      <th>...</th>\n",
       "      <td>...</td>\n",
       "    </tr>\n",
       "    <tr>\n",
       "      <th>1432</th>\n",
       "      <td>2</td>\n",
       "    </tr>\n",
       "    <tr>\n",
       "      <th>1433</th>\n",
       "      <td>4</td>\n",
       "    </tr>\n",
       "    <tr>\n",
       "      <th>1434</th>\n",
       "      <td>6</td>\n",
       "    </tr>\n",
       "    <tr>\n",
       "      <th>1435</th>\n",
       "      <td>8</td>\n",
       "    </tr>\n",
       "    <tr>\n",
       "      <th>1436</th>\n",
       "      <td>3</td>\n",
       "    </tr>\n",
       "  </tbody>\n",
       "</table>\n",
       "<p>1437 rows × 1 columns</p>\n",
       "</div>"
      ],
      "text/plain": [
       "      0\n",
       "0     9\n",
       "1     0\n",
       "2     0\n",
       "3     3\n",
       "4     2\n",
       "...  ..\n",
       "1432  2\n",
       "1433  4\n",
       "1434  6\n",
       "1435  8\n",
       "1436  3\n",
       "\n",
       "[1437 rows x 1 columns]"
      ]
     },
     "execution_count": 7,
     "metadata": {},
     "output_type": "execute_result"
    }
   ],
   "source": [
    "y_train = pd.DataFrame(y_train)\n",
    "y_train"
   ]
  },
  {
   "cell_type": "markdown",
   "id": "regulated-country",
   "metadata": {},
   "source": [
    "## Train the baseline model (SVM) supervised with labels "
   ]
  },
  {
   "cell_type": "markdown",
   "id": "agreed-cinema",
   "metadata": {},
   "source": [
    "For linear SVM the cost function to address is:\n",
    "\n",
    "\n",
    "$$\n",
    "\\underset{\\theta}{\\text{min}} \\, \\sum_{n=1}^{n} \\theta_j^2 = \n",
    "\\underset{\\theta}{\\text{min}} \\, \\| \\theta\\|^2\n",
    "$$\n",
    "such that:\n",
    "\n",
    "$$\n",
    "\\theta^Tx +b  \\geq 1 \\qquad if \\qquad y_i = 1\n",
    "$$\n",
    "$$\n",
    "\\theta^Tx +b \\leq -1 \\qquad if \\qquad y_i = -1\n",
    "$$ \n",
    "\n",
    "If the sample is not exactly linearly separable (but can still be addressed as a linear problem) we add to the objective function the parameter $C>0$ to weight the error: \n",
    "\n",
    "$$\n",
    "\\underset{\\theta}{\\text{min}} \\, \\| \\theta\\|^2 + C\\sum_{i}^{m} \\xi_i\n",
    "$$\n",
    "Such that:\n",
    "\n",
    "$$\n",
    " y_i (\\theta^Tx +b)    \\geq 1 -  \\xi_i\n",
    "$$\n",
    "So:\n",
    "$$\n",
    "  \\xi_i = max \\left[0, 1- y_i (\\theta^Tx_i +b)  \\right]\n",
    "$$\n",
    "\n",
    "\n",
    "\n",
    "\n",
    "\n",
    "- C is a regularization parameter:\n",
    "\n",
    "  - large C makes constraints hard to ignore → narrow margin\n",
    "  - small C allows constraints to be easily ignored →  large margin\n",
    "\n",
    "\n",
    "\n",
    "In the Dual problem formulation applying the Lagrangian multipliers :\n",
    "\n",
    "\n",
    "$$\n",
    "\\underset{\\lambda}{\\text{max}} \\, \\sum_{n=1}^{m} \\lambda_i -\\frac{1}{2}  \\sum_{i=1}^{m} \\sum_{j=1}^{m} \\lambda_i \\lambda_j y_i y_j x^T_i x_j\n",
    "$$\n",
    "Such that\n",
    "$$\n",
    "\\sum_{n=1}^{m} \\lambda_i y_i = 0\n",
    "$$\n",
    "$$\n",
    "0\\leq \\lambda \\leq C\n",
    "$$"
   ]
  },
  {
   "cell_type": "markdown",
   "id": "irish-effects",
   "metadata": {},
   "source": [
    "### Kernel trick"
   ]
  },
  {
   "cell_type": "markdown",
   "id": "greatest-rider",
   "metadata": {},
   "source": [
    "In the gaussian kernel formulation of the problem the original features are replaced through a similarity function:\n",
    "\n",
    "$$\n",
    " similarity(x,l) = f^{(i)} = exp\\left( - \\frac{\\sum_{m=1}^{m} \\|x-l_i\\|^2}{2\\sigma^2} \\right)\n",
    "$$\n",
    "Where:\n",
    "$$\n",
    "f_1^{(i)} = similarity(x_i, l^1)\n",
    "$$\n",
    "$$\n",
    "f_2^{(i)} = similarity(x_i, l^2)\n",
    "$$\n",
    "$$\n",
    "...\n",
    "$$\n",
    "$$\n",
    "f_m^{(i)} = similarity(x_i, l^m)\n",
    "$$\n",
    "so:\n",
    "$$\n",
    "f^{(i)}=\n",
    "\\begin{bmatrix}\n",
    "f_1^{(i)} \\\\\n",
    "f_2^{(i)} \\\\\n",
    "...\\\\\n",
    "f_m^{(i)} \\\\\n",
    "\\end{bmatrix}\n",
    "$$\n",
    "\n",
    "for example is predicted \"$y=1$\" if  $ \\, \\theta^Tf \\geq 0$\n",
    "\n",
    "The cost function becomes for $y =(0,1)$:\n",
    "\n",
    "$$\n",
    "\\underset{\\theta}{\\text{min}} \\, C \\sum_{n=1}^{m} \\left( y_i \\, cost_1 \\,(\\theta^Tf^{(i)}) + (1-y_i) \\, cost_0 \\, (\\theta^Tf^{(i)})  \\right) + \\frac{1}{2}  \n",
    "\\sum_{n=1}^{n} \\theta_j^2\n",
    "$$\n",
    "\n",
    "Parameters C and $\\sigma^2$ control the bias-variance tradeoff:\n",
    "\n",
    "- Hyperparameter C: \n",
    "  - Large: Lower bias, high variance.\n",
    "  - Small: high bias, Lower variance.\n",
    "- Hyperparameter $\\sigma^2$: \n",
    "  - Large: high bias, Lower variance.\n",
    "  - Small: Lower bias, high variance.\n"
   ]
  },
  {
   "cell_type": "code",
   "execution_count": 61,
   "id": "variable-productivity",
   "metadata": {
    "scrolled": true
   },
   "outputs": [
    {
     "name": "stdout",
     "output_type": "stream",
     "text": [
      "Fitting 5 folds for each of 48 candidates, totalling 240 fits\n",
      "SVM : \n",
      "{'C': 3, 'gamma': 0.1, 'kernel': 'rbf'}\n",
      "Averange Accuracy Scores - SVM: 0.9972164231036882\n",
      "Confusion matrix - SVM: \n",
      " [[143   0   0   0   0   0   0   0   0   0]\n",
      " [  0 147   0   0   0   0   0   0   0   0]\n",
      " [  0   0 141   0   0   0   0   0   0   0]\n",
      " [  0   0   0 146   0   0   0   0   0   0]\n",
      " [  0   0   0   0 149   0   0   0   0   0]\n",
      " [  0   0   0   0   0 135   0   0   0   1]\n",
      " [  0   0   0   0   0   0 151   0   0   0]\n",
      " [  0   0   0   0   0   0   0 137   0   0]\n",
      " [  0   1   0   0   0   0   0   0 135   0]\n",
      " [  0   0   0   0   0   0   0   1   1 149]]\n"
     ]
    }
   ],
   "source": [
    "def FullModel(X, y):\n",
    "    estimator_SVM = SVC(probability=True)\n",
    "\n",
    "    parameters_SVM = {\n",
    "        \"C\": [0.5, 1, 3, 5, 11, 20],\n",
    "        \"gamma\": (0.1, 10.0, 1.0, 3),\n",
    "        \"kernel\": (\"linear\", \"rbf\"),\n",
    "    }\n",
    "\n",
    "    # with GridSearch\n",
    "    grid_search_SVM = GridSearchCV(\n",
    "        estimator=estimator_SVM,\n",
    "        param_grid=parameters_SVM,\n",
    "        scoring=\"accuracy\",\n",
    "        n_jobs=-1,\n",
    "        return_train_score=True,\n",
    "        cv=5,\n",
    "        verbose=3,\n",
    "    )\n",
    "    # fit the SVM model\n",
    "\n",
    "    Full_model = grid_search_SVM.fit(X, y)\n",
    "\n",
    "    # predicting on training and test data-set\n",
    "    Y_pred = Full_model.predict(X)\n",
    "\n",
    "    # Assess the performance\n",
    "    print(\"SVM : \")\n",
    "    print(grid_search_SVM.best_params_)\n",
    "    print(\"Averange Accuracy Scores - SVM:\", metrics.accuracy_score(y, Y_pred))\n",
    "    print(\"Confusion matrix - SVM: \\n\", confusion_matrix(y, Y_pred))\n",
    "    return Full_model\n",
    "\n",
    "\n",
    "FullModel = FullModel(\n",
    "    X_train,\n",
    "    y_train,\n",
    ")"
   ]
  },
  {
   "cell_type": "markdown",
   "id": "caroline-remainder",
   "metadata": {},
   "source": [
    "#### Evaluate the model on the test set"
   ]
  },
  {
   "cell_type": "code",
   "execution_count": 6,
   "id": "everyday-casting",
   "metadata": {},
   "outputs": [
    {
     "name": "stdout",
     "output_type": "stream",
     "text": [
      "SVM : \n",
      "{'C': 3, 'gamma': 0.1, 'kernel': 'rbf'}\n",
      "Averange Accuracy Scores - SVM: 0.9833333333333333\n",
      "Confusion matrix - SVM: \n",
      " [[35  0  0  0  0  0  0  0  0  0]\n",
      " [ 0 35  0  0  0  0  0  0  0  0]\n",
      " [ 0  0 36  0  0  0  0  0  0  0]\n",
      " [ 0  0  1 35  0  1  0  0  0  0]\n",
      " [ 0  0  0  0 32  0  0  0  0  0]\n",
      " [ 0  0  0  0  0 45  0  0  0  1]\n",
      " [ 0  0  0  0  0  0 30  0  0  0]\n",
      " [ 0  0  0  0  0  0  0 41  0  1]\n",
      " [ 0  1  0  0  0  0  0  0 37  0]\n",
      " [ 0  0  0  0  0  1  0  0  0 28]]\n"
     ]
    }
   ],
   "source": [
    "def TestFull(X, y, model):\n",
    "    model.score(X, y)\n",
    "    Y_pred = model.predict(X)\n",
    "\n",
    "    # Assess the performance\n",
    "    print(\"SVM : \")\n",
    "    print(model.best_params_)\n",
    "    print(\"Averange Accuracy Scores - SVM:\", metrics.accuracy_score(y, Y_pred))\n",
    "    # print(\"Precision score - SVM: \", precision_score(y, Y_pred))\n",
    "    # print(\"Recall score - SVM: \", recall_score(y, Y_pred))\n",
    "    # print(\"F1 score - SVM: \", f1_score(y, Y_pred))\n",
    "    print(\"Confusion matrix - SVM: \\n\", confusion_matrix(y, Y_pred))\n",
    "    # tn, fp, fn, tp = confusion_matrix(y, Y_pred).ravel()\n",
    "    # print(\"tn = \", tn, \"fp = \", fp, \"fn = \", fn, \"tp = \", tp)\n",
    "\n",
    "\n",
    "TestFull(X_test, y_test, FullModel)"
   ]
  },
  {
   "cell_type": "markdown",
   "id": "instant-antarctica",
   "metadata": {},
   "source": [
    "## Propagate labels through Kmeans clustering "
   ]
  },
  {
   "cell_type": "markdown",
   "id": "suited-hudson",
   "metadata": {},
   "source": [
    "Kmeans algorithm is ran to identify the centroids of 50 different group in the dataset, then the real lebels of such groups is propagated to all the elements of each group.\n",
    "\n",
    "The cost function of K-means is given by:\n",
    "$$\n",
    "J(c^{(1)},... c^{(m)}, \\mu_1,...,\\mu_K) =  \\frac{1}{m} \\sum_{i=1}^{m}  ||x^{(i)}-\\mu_{c^{(i)}}||^2\n",
    "$$\n",
    "\n",
    "Where:\n",
    "\n",
    "- $c^{(1)}$ = index of the cluster (1,2,...,K) to which example $x^{(i)}$ is currently assigned\n",
    "- $\\mu_k$ = cluster centroid $k$\n",
    "- $\\mu_{c^{(i)}}$ = cluster centrois of cluster to which exampe $x^{(i)}$ has been assigned"
   ]
  },
  {
   "cell_type": "code",
   "execution_count": 7,
   "id": "revised-proof",
   "metadata": {
    "scrolled": true
   },
   "outputs": [],
   "source": [
    "k = 50\n",
    "kmeans = KMeans(n_clusters=k)\n",
    "X_digits_dist = kmeans.fit_transform(X_train) # matrix of distances from centroids\n",
    "representative_digit_idx = np.argmin(X_digits_dist, axis=0)\n",
    "X_representative_digits = X_train[representative_digit_idx]\n",
    "\n",
    "y_representative_digits = y_train[representative_digit_idx]\n",
    "y_representative_digits\n",
    "\n",
    "# propagating the labels thoughout the whole dataset\n",
    "\n",
    "y_train_propagated = np.empty(len(X_train), dtype=np.int32)\n",
    "for i in range(k):\n",
    "    y_train_propagated[kmeans.labels_==i] = y_representative_digits[i]\n"
   ]
  },
  {
   "cell_type": "code",
   "execution_count": 76,
   "id": "connected-playing",
   "metadata": {},
   "outputs": [
    {
     "data": {
      "text/plain": [
       "0.9505915100904663"
      ]
     },
     "execution_count": 76,
     "metadata": {},
     "output_type": "execute_result"
    }
   ],
   "source": [
    "\n",
    "# percentage of correctly labelled items\n",
    "sum(y_train_propagated==y_train)/len(y_train)\n",
    "#pd.DataFrame(X_digits_dist)\n",
    "#representative_digit_idx\n"
   ]
  },
  {
   "cell_type": "code",
   "execution_count": 86,
   "id": "sacred-canyon",
   "metadata": {
    "scrolled": true
   },
   "outputs": [
    {
     "name": "stdout",
     "output_type": "stream",
     "text": [
      "9\n",
      "[0.         0.         0.1875     0.875      1.         0.5\n",
      " 0.         0.         0.         0.1875     0.9375     0.5\n",
      " 0.25       0.9375     0.0625     0.         0.         0.5\n",
      " 0.625      0.         0.1875     1.         0.5        0.\n",
      " 0.         0.2        0.9375     0.8125     1.         0.875\n",
      " 0.06666667 0.         0.         0.         0.125      0.3125\n",
      " 1.         0.25       0.         0.         0.         0.\n",
      " 0.         0.5        0.6875     0.         0.         0.\n",
      " 0.         0.         0.         0.9375     0.125      0.\n",
      " 0.         0.         0.         0.         0.125      0.8125\n",
      " 0.         0.         0.         0.        ]\n"
     ]
    },
    {
     "data": {
      "image/png": "[encoded data removed]",
      "text/plain": [
       "<Figure size 432x288 with 1 Axes>"
      ]
     },
     "metadata": {
      "needs_background": "light"
     },
     "output_type": "display_data"
    },
    {
     "name": "stdout",
     "output_type": "stream",
     "text": [
      "9\n",
      "[0.         0.         0.3125     0.8125     0.875      0.3125\n",
      " 0.         0.         0.         0.125      0.9375     0.375\n",
      " 0.6875     0.9375     0.0625     0.         0.         0.0625\n",
      " 1.         0.3125     0.5        1.         0.25       0.\n",
      " 0.         0.         0.25       0.75       0.5625     0.8125\n",
      " 0.53333333 0.         0.         0.         0.         0.\n",
      " 0.         0.5        0.57142857 0.         0.         0.\n",
      " 0.         0.         0.         0.6875     0.4375     0.\n",
      " 0.         0.         0.4375     0.4375     0.3125     0.9375\n",
      " 0.125      0.         0.         0.         0.3125     0.9375\n",
      " 1.         0.4375     0.         0.        ]\n"
     ]
    },
    {
     "data": {
      "image/png": "[encoded data removed]",
      "text/plain": [
       "<Figure size 432x288 with 1 Axes>"
      ]
     },
     "metadata": {
      "needs_background": "light"
     },
     "output_type": "display_data"
    },
    {
     "name": "stdout",
     "output_type": "stream",
     "text": [
      "0\n",
      "[0.         0.         0.0625     0.8125     0.9375     0.5\n",
      " 0.         0.         0.         0.         0.6875     0.875\n",
      " 0.5        0.9375     0.         0.         0.         0.125\n",
      " 1.         0.1875     0.         0.8125     0.125      0.\n",
      " 0.         0.33333333 0.9375     0.         0.         0.625\n",
      " 0.33333333 0.         0.         0.21428571 0.625      0.\n",
      " 0.         0.625      0.35714286 0.         0.         0.1875\n",
      " 0.8125     0.         0.0625     0.9375     0.1875     0.\n",
      " 0.         0.         0.75       0.625      0.6875     0.6875\n",
      " 0.         0.         0.         0.         0.0625     0.75\n",
      " 0.6875     0.25       0.         0.        ]\n"
     ]
    },
    {
     "data": {
      "image/png": "[encoded data removed]",
      "text/plain": [
       "<Figure size 432x288 with 1 Axes>"
      ]
     },
     "metadata": {
      "needs_background": "light"
     },
     "output_type": "display_data"
    },
    {
     "name": "stdout",
     "output_type": "stream",
     "text": [
      "6\n",
      "[0.         0.         0.         0.375      0.875      0.0625\n",
      " 0.         0.         0.         0.         0.125      1.\n",
      " 0.625      0.         0.         0.         0.         0.\n",
      " 0.6875     0.9375     0.125      0.         0.         0.\n",
      " 0.         0.         0.8125     0.8125     0.5        0.3125\n",
      " 0.         0.         0.         0.14285714 1.         0.875\n",
      " 0.75       1.         0.21428571 0.         0.         0.0625\n",
      " 1.         0.6875     0.         0.3125     0.75       0.\n",
      " 0.         0.         0.6875     0.9375     0.3125     0.75\n",
      " 0.75       0.         0.         0.         0.         0.5625\n",
      " 0.9375     0.875      0.375      0.        ]\n"
     ]
    },
    {
     "data": {
      "image/png": "[encoded data removed]",
      "text/plain": [
       "<Figure size 432x288 with 1 Axes>"
      ]
     },
     "metadata": {
      "needs_background": "light"
     },
     "output_type": "display_data"
    },
    {
     "name": "stdout",
     "output_type": "stream",
     "text": [
      "2\n",
      "[0.     0.     0.4375 1.     1.     0.1875 0.     0.     0.     0.4375\n",
      " 1.     0.5625 0.875  0.4375 0.     0.     0.     0.625  0.5625 0.\n",
      " 0.875  0.3125 0.     0.     0.     0.2    0.1875 0.25   1.     0.125\n",
      " 0.     0.     0.     0.     0.     0.75   0.6875 0.     0.     0.\n",
      " 0.     0.     0.375  1.     0.1875 0.     0.     0.     0.     0.\n",
      " 0.75   0.9375 0.5    0.5    0.1875 0.     0.     0.     0.625  1.\n",
      " 1.     1.     0.5625 0.    ]\n"
     ]
    },
    {
     "data": {
      "image/png": "[encoded data removed]",
      "text/plain": [
       "<Figure size 432x288 with 1 Axes>"
      ]
     },
     "metadata": {
      "needs_background": "light"
     },
     "output_type": "display_data"
    },
    {
     "name": "stdout",
     "output_type": "stream",
     "text": [
      "7\n",
      "[0.         0.         0.1875     0.75       1.         0.625\n",
      " 0.         0.         0.         0.125      0.875      0.75\n",
      " 0.75       0.75       0.         0.         0.         0.3125\n",
      " 0.625      0.         0.625      0.6875     0.         0.\n",
      " 0.         0.         0.         0.0625     0.875      0.5625\n",
      " 0.13333333 0.         0.         0.         0.5        1.\n",
      " 1.         1.         0.71428571 0.         0.         0.\n",
      " 0.375      1.         0.8125     0.4375     0.         0.\n",
      " 0.         0.         0.         1.         0.3125     0.\n",
      " 0.         0.         0.         0.         0.3125     0.8125\n",
      " 0.         0.         0.         0.        ]\n"
     ]
    },
    {
     "data": {
      "image/png": "[encoded data removed]",
      "text/plain": [
       "<Figure size 432x288 with 1 Axes>"
      ]
     },
     "metadata": {
      "needs_background": "light"
     },
     "output_type": "display_data"
    },
    {
     "name": "stdout",
     "output_type": "stream",
     "text": [
      "1\n",
      "[0.     0.     0.375  1.     0.6875 0.     0.     0.     0.     0.\n",
      " 0.5625 1.     1.     0.3125 0.     0.     0.     0.     0.5    1.\n",
      " 1.     0.25   0.     0.     0.     0.     0.625  1.     0.8125 0.\n",
      " 0.     0.     0.     0.     0.8125 1.     0.75   0.     0.     0.\n",
      " 0.     0.     0.625  1.     0.5625 0.     0.     0.     0.     0.\n",
      " 0.5625 1.     0.625  0.     0.     0.     0.     0.     0.25   0.9375\n",
      " 1.     0.1875 0.     0.    ]\n"
     ]
    },
    {
     "data": {
      "image/png": "[encoded data removed]",
      "text/plain": [
       "<Figure size 432x288 with 1 Axes>"
      ]
     },
     "metadata": {
      "needs_background": "light"
     },
     "output_type": "display_data"
    },
    {
     "name": "stdout",
     "output_type": "stream",
     "text": [
      "8\n",
      "[0.     0.     0.25   0.9375 0.8125 0.1875 0.     0.     0.     0.25\n",
      " 0.8125 0.875  0.625  0.8125 0.     0.     0.     0.5    1.     0.5\n",
      " 0.5    0.8125 0.     0.     0.     0.     0.9375 0.75   0.9375 0.6875\n",
      " 0.     0.     0.     0.     0.375  1.     0.8125 0.0625 0.     0.\n",
      " 0.     0.     0.6875 0.9375 0.9375 0.125  0.     0.     0.     0.\n",
      " 0.75   0.5    0.9375 0.5    0.     0.     0.     0.     0.3125 0.9375\n",
      " 1.     0.3125 0.     0.    ]\n"
     ]
    },
    {
     "data": {
      "image/png": "[encoded data removed]",
      "text/plain": [
       "<Figure size 432x288 with 1 Axes>"
      ]
     },
     "metadata": {
      "needs_background": "light"
     },
     "output_type": "display_data"
    },
    {
     "name": "stdout",
     "output_type": "stream",
     "text": [
      "4\n",
      "[0.         0.         0.         0.8125     0.5625     0.\n",
      " 0.         0.         0.         0.         0.25       0.9375\n",
      " 0.1875     0.         0.         0.         0.         0.\n",
      " 0.6875     0.5625     0.375      0.25       0.         0.\n",
      " 0.         0.33333333 1.         0.1875     0.8125     0.5\n",
      " 0.06666667 0.         0.         1.         1.         0.5625\n",
      " 1.         1.         0.64285714 0.         0.         0.75\n",
      " 1.         1.         1.         0.6875     0.1875     0.\n",
      " 0.         0.         0.25       0.75       0.875      0.\n",
      " 0.         0.         0.         0.         0.         0.75\n",
      " 0.625      0.         0.         0.        ]\n"
     ]
    },
    {
     "data": {
      "image/png": "[encoded data removed]",
      "text/plain": [
       "<Figure size 432x288 with 1 Axes>"
      ]
     },
     "metadata": {
      "needs_background": "light"
     },
     "output_type": "display_data"
    },
    {
     "name": "stdout",
     "output_type": "stream",
     "text": [
      "1\n",
      "[0.         0.         0.         0.         0.75       0.8125\n",
      " 0.0625     0.         0.         0.         0.         0.5\n",
      " 1.         0.9375     0.125      0.         0.         0.\n",
      " 0.625      1.         1.         0.75       0.         0.\n",
      " 0.         0.26666667 1.         1.         1.         0.8125\n",
      " 0.         0.         0.         0.28571429 0.4375     0.25\n",
      " 1.         0.375      0.         0.         0.         0.\n",
      " 0.         0.0625     1.         0.5        0.         0.\n",
      " 0.         0.         0.         0.0625     1.         0.5\n",
      " 0.         0.         0.         0.         0.         0.\n",
      " 0.75       0.75       0.         0.        ]\n"
     ]
    },
    {
     "data": {
      "image/png": "[encoded data removed]",
      "text/plain": [
       "<Figure size 432x288 with 1 Axes>"
      ]
     },
     "metadata": {
      "needs_background": "light"
     },
     "output_type": "display_data"
    },
    {
     "name": "stdout",
     "output_type": "stream",
     "text": [
      "5\n",
      "[0.         0.         0.5625     1.         1.         1.\n",
      " 0.625      0.         0.         0.25       1.         0.875\n",
      " 0.5        0.6875     0.6875     0.         0.         0.6875\n",
      " 1.         0.4375     0.         0.         0.         0.\n",
      " 0.         0.33333333 0.9375     1.         0.375      0.\n",
      " 0.         0.         0.         0.         0.0625     0.875\n",
      " 0.9375     0.         0.         0.         0.         0.\n",
      " 0.         0.5        1.         0.         0.         0.\n",
      " 0.         0.         0.5625     0.8125     0.875      0.\n",
      " 0.         0.         0.         0.         0.75       1.\n",
      " 0.4375     0.         0.         0.        ]\n"
     ]
    },
    {
     "data": {
      "image/png": "[encoded data removed]",
      "text/plain": [
       "<Figure size 432x288 with 1 Axes>"
      ]
     },
     "metadata": {
      "needs_background": "light"
     },
     "output_type": "display_data"
    },
    {
     "name": "stdout",
     "output_type": "stream",
     "text": [
      "9\n",
      "[0.         0.125      0.5625     0.9375     0.8125     0.25\n",
      " 0.         0.         0.         0.5        0.75       0.25\n",
      " 0.5        0.5        0.         0.         0.         0.5625\n",
      " 0.6875     0.         0.3125     1.         0.1875     0.\n",
      " 0.         0.26666667 0.8125     0.5        1.         1.\n",
      " 0.4        0.         0.         0.         0.25       0.5\n",
      " 0.125      0.6875     0.64285714 0.         0.         0.\n",
      " 0.         0.         0.         0.625      0.5        0.\n",
      " 0.         0.         0.4375     0.         0.1875     0.875\n",
      " 0.375      0.         0.         0.         0.4375     1.\n",
      " 0.875      0.5        0.         0.        ]\n"
     ]
    },
    {
     "data": {
      "image/png": "[encoded data removed]",
      "text/plain": [
       "<Figure size 432x288 with 1 Axes>"
      ]
     },
     "metadata": {
      "needs_background": "light"
     },
     "output_type": "display_data"
    },
    {
     "name": "stdout",
     "output_type": "stream",
     "text": [
      "6\n",
      "[0.         0.         0.         0.5625     1.         0.375\n",
      " 0.         0.         0.         0.         0.5        1.\n",
      " 0.75       0.3125     0.         0.         0.         0.125\n",
      " 1.         0.5625     0.         0.         0.         0.\n",
      " 0.         0.4        1.         0.375      0.125      0.\n",
      " 0.         0.         0.         0.57142857 1.         1.\n",
      " 1.         0.4375     0.         0.         0.         0.125\n",
      " 1.         0.4375     0.4375     1.         0.25       0.\n",
      " 0.         0.         0.5625     0.8125     0.1875     0.875\n",
      " 0.5625     0.         0.         0.         0.         0.5\n",
      " 1.         1.         0.4375     0.        ]\n"
     ]
    },
    {
     "data": {
      "image/png": "[encoded data removed]",
      "text/plain": [
       "<Figure size 432x288 with 1 Axes>"
      ]
     },
     "metadata": {
      "needs_background": "light"
     },
     "output_type": "display_data"
    },
    {
     "name": "stdout",
     "output_type": "stream",
     "text": [
      "6\n",
      "[0.         0.         0.0625     0.8125     0.4375     0.\n",
      " 0.         0.         0.         0.         0.4375     0.875\n",
      " 0.125      0.         0.         0.         0.         0.\n",
      " 0.8125     0.3125     0.         0.         0.         0.\n",
      " 0.         0.         1.         0.1875     0.         0.\n",
      " 0.         0.         0.         0.21428571 1.         0.625\n",
      " 0.75       0.75       0.21428571 0.         0.         0.1875\n",
      " 1.         0.6875     0.3125     0.5625     0.75       0.\n",
      " 0.         0.0625     0.8125     0.6875     0.25       0.8125\n",
      " 0.6875     0.         0.         0.         0.0625     0.75\n",
      " 1.         0.6875     0.125      0.        ]\n"
     ]
    },
    {
     "data": {
      "image/png": "[encoded data removed]",
      "text/plain": [
       "<Figure size 432x288 with 1 Axes>"
      ]
     },
     "metadata": {
      "needs_background": "light"
     },
     "output_type": "display_data"
    },
    {
     "name": "stdout",
     "output_type": "stream",
     "text": [
      "9\n",
      "[0.         0.         0.         0.0625     0.4375     0.75\n",
      " 0.875      0.06666667 0.         0.         0.0625     0.8125\n",
      " 0.5        0.25       0.8125     0.         0.         0.\n",
      " 0.625      1.         0.5625     0.9375     0.6875     0.\n",
      " 0.         0.06666667 1.         0.9375     0.9375     1.\n",
      " 0.2        0.         0.         0.         0.6875     0.5625\n",
      " 0.1875     0.875      0.         0.         0.         0.\n",
      " 0.         0.         0.3125     0.5625     0.         0.\n",
      " 0.         0.         0.         0.         0.4375     0.5\n",
      " 0.         0.         0.         0.         0.         0.\n",
      " 0.5        0.375      0.         0.        ]\n"
     ]
    },
    {
     "data": {
      "image/png": "[encoded data removed]",
      "text/plain": [
       "<Figure size 432x288 with 1 Axes>"
      ]
     },
     "metadata": {
      "needs_background": "light"
     },
     "output_type": "display_data"
    },
    {
     "name": "stdout",
     "output_type": "stream",
     "text": [
      "2\n",
      "[0.     0.     0.6875 1.     0.6875 0.     0.     0.     0.     0.1875\n",
      " 1.     0.6875 0.9375 0.375  0.     0.     0.     0.0625 0.625  0.1875\n",
      " 0.625  0.625  0.     0.     0.     0.     0.     0.     0.5625 0.625\n",
      " 0.     0.     0.     0.     0.     0.     0.75   0.5625 0.     0.\n",
      " 0.     0.     0.     0.3125 1.     0.3125 0.     0.     0.     0.0625\n",
      " 0.8125 1.     1.     0.8125 0.5    0.     0.     0.     0.6875 0.6875\n",
      " 0.5    0.8125 1.     0.4375]\n"
     ]
    },
    {
     "data": {
      "image/png": "[encoded data removed]",
      "text/plain": [
       "<Figure size 432x288 with 1 Axes>"
      ]
     },
     "metadata": {
      "needs_background": "light"
     },
     "output_type": "display_data"
    },
    {
     "name": "stdout",
     "output_type": "stream",
     "text": [
      "3\n",
      "[0.         0.         0.25       0.8125     1.         0.6875\n",
      " 0.         0.         0.         0.5625     1.         0.5625\n",
      " 0.625      0.9375     0.         0.         0.         0.3125\n",
      " 0.25       0.         0.75       0.6875     0.         0.\n",
      " 0.         0.         0.         0.3125     1.         0.75\n",
      " 0.06666667 0.         0.         0.         0.         0.0625\n",
      " 0.5625     0.9375     0.57142857 0.         0.         0.\n",
      " 0.         0.         0.         0.5        0.75       0.\n",
      " 0.         0.         0.0625     0.375      0.5        1.\n",
      " 0.5        0.         0.         0.         0.3125     1.\n",
      " 0.9375     0.5625     0.0625     0.        ]\n"
     ]
    },
    {
     "data": {
      "image/png": "[encoded data removed]",
      "text/plain": [
       "<Figure size 432x288 with 1 Axes>"
      ]
     },
     "metadata": {
      "needs_background": "light"
     },
     "output_type": "display_data"
    },
    {
     "name": "stdout",
     "output_type": "stream",
     "text": [
      "2\n",
      "[0.         0.25       0.875      1.         0.375      0.\n",
      " 0.         0.         0.         0.75       0.875      0.75\n",
      " 0.9375     0.         0.         0.         0.         0.6875\n",
      " 0.125      0.5        0.75       0.         0.         0.\n",
      " 0.         0.         0.         0.6875     0.6875     0.\n",
      " 0.         0.         0.         0.         0.125      1.\n",
      " 0.25       0.         0.         0.         0.         0.\n",
      " 0.4375     0.8125     0.         0.         0.         0.\n",
      " 0.         0.0625     0.875      0.8125     0.5        0.5\n",
      " 0.4375     0.         0.         0.22222222 0.9375     1.\n",
      " 1.         0.9375     0.5        0.        ]\n"
     ]
    },
    {
     "data": {
      "image/png": "[encoded data removed]",
      "text/plain": [
       "<Figure size 432x288 with 1 Axes>"
      ]
     },
     "metadata": {
      "needs_background": "light"
     },
     "output_type": "display_data"
    },
    {
     "name": "stdout",
     "output_type": "stream",
     "text": [
      "1\n",
      "[0.         0.         0.625      0.8125     0.0625     0.\n",
      " 0.         0.         0.         0.         0.4375     1.\n",
      " 0.3125     0.         0.         0.         0.         0.\n",
      " 0.375      1.         0.375      0.         0.         0.\n",
      " 0.         0.         0.375      1.         0.8125     0.\n",
      " 0.         0.         0.         0.         0.         0.375\n",
      " 1.         0.125      0.         0.         0.         0.\n",
      " 0.         0.1875     1.         0.5        0.         0.\n",
      " 0.         0.         0.4375     0.6875     1.         0.875\n",
      " 0.5625     0.30769231 0.         0.         0.375      0.9375\n",
      " 0.8125     0.875      1.         0.9375    ]\n"
     ]
    },
    {
     "data": {
      "image/png": "[encoded data removed]",
      "text/plain": [
       "<Figure size 432x288 with 1 Axes>"
      ]
     },
     "metadata": {
      "needs_background": "light"
     },
     "output_type": "display_data"
    },
    {
     "name": "stdout",
     "output_type": "stream",
     "text": [
      "3\n",
      "[0.     0.     0.5    0.8125 0.75   0.1875 0.     0.     0.     0.375\n",
      " 0.9375 0.4375 0.5625 0.75   0.     0.     0.     0.     0.     0.\n",
      " 0.4375 0.6875 0.     0.     0.     0.     0.     0.25   0.9375 0.1875\n",
      " 0.     0.     0.     0.     0.     0.625  1.     0.5625 0.     0.\n",
      " 0.     0.     0.     0.     0.25   0.9375 0.4375 0.     0.     0.\n",
      " 0.6875 0.125  0.0625 0.9375 0.4375 0.     0.     0.     0.5    1.\n",
      " 1.     0.75   0.     0.    ]\n"
     ]
    },
    {
     "data": {
      "image/png": "[encoded data removed]",
      "text/plain": [
       "<Figure size 432x288 with 1 Axes>"
      ]
     },
     "metadata": {
      "needs_background": "light"
     },
     "output_type": "display_data"
    },
    {
     "name": "stdout",
     "output_type": "stream",
     "text": [
      "1\n",
      "[0.     0.     0.375  0.625  0.5    0.1875 0.     0.     0.     0.\n",
      " 0.375  1.     1.     0.5625 0.     0.     0.     0.     0.5625 1.\n",
      " 1.     0.375  0.     0.     0.     0.     0.4375 1.     1.     0.625\n",
      " 0.     0.     0.     0.     0.6875 1.     1.     0.5    0.     0.\n",
      " 0.     0.     0.4375 1.     1.     0.5625 0.     0.     0.     0.\n",
      " 0.625  1.     1.     0.375  0.     0.     0.     0.     0.25   0.5625\n",
      " 0.75   0.6875 0.125  0.    ]\n"
     ]
    },
    {
     "data": {
      "image/png": "[encoded data removed]",
      "text/plain": [
       "<Figure size 432x288 with 1 Axes>"
      ]
     },
     "metadata": {
      "needs_background": "light"
     },
     "output_type": "display_data"
    },
    {
     "name": "stdout",
     "output_type": "stream",
     "text": [
      "5\n",
      "[0.         0.         0.5        1.         1.         0.5625\n",
      " 0.         0.         0.         0.0625     1.         0.9375\n",
      " 0.6875     0.5        0.         0.         0.         0.0625\n",
      " 0.875      0.625      0.         0.         0.         0.\n",
      " 0.         0.46666667 1.         0.625      0.375      0.\n",
      " 0.         0.         0.         0.14285714 0.75       1.\n",
      " 1.         0.625      0.         0.         0.         0.\n",
      " 0.         0.0625     0.4375     0.9375     0.         0.\n",
      " 0.         0.         0.6875     0.3125     0.8125     0.8125\n",
      " 0.         0.         0.         0.         0.6875     1.\n",
      " 1.         0.375      0.         0.        ]\n"
     ]
    },
    {
     "data": {
      "image/png": "[encoded data removed]",
      "text/plain": [
       "<Figure size 432x288 with 1 Axes>"
      ]
     },
     "metadata": {
      "needs_background": "light"
     },
     "output_type": "display_data"
    },
    {
     "name": "stdout",
     "output_type": "stream",
     "text": [
      "7\n",
      "[0.         0.         0.0625     0.6875     1.         1.\n",
      " 0.5        0.         0.         0.         0.3125     0.6875\n",
      " 0.5625     1.         0.6875     0.         0.         0.\n",
      " 0.         0.         0.125      1.         0.375      0.\n",
      " 0.         0.         0.375      0.5625     0.75       1.\n",
      " 0.6        0.         0.         0.07142857 1.         1.\n",
      " 1.         0.875      0.21428571 0.         0.         0.\n",
      " 0.1875     0.3125     1.         0.4375     0.         0.\n",
      " 0.         0.         0.         0.5        0.875      0.\n",
      " 0.         0.         0.         0.         0.0625     1.\n",
      " 0.3125     0.         0.         0.        ]\n"
     ]
    },
    {
     "data": {
      "image/png": "[encoded data removed]",
      "text/plain": [
       "<Figure size 432x288 with 1 Axes>"
      ]
     },
     "metadata": {
      "needs_background": "light"
     },
     "output_type": "display_data"
    },
    {
     "name": "stdout",
     "output_type": "stream",
     "text": [
      "9\n",
      "[0.         0.         0.3125     0.8125     0.9375     0.375\n",
      " 0.         0.         0.         0.125      1.         0.5625\n",
      " 1.         0.8125     0.         0.         0.         0.25\n",
      " 0.875      0.         0.625      1.         0.125      0.\n",
      " 0.         0.26666667 0.9375     0.6875     0.9375     1.\n",
      " 0.06666667 0.         0.         0.         0.4375     0.625\n",
      " 0.1875     0.8125     0.57142857 0.         0.         0.\n",
      " 0.1875     0.         0.         0.75       0.3125     0.\n",
      " 0.         0.         0.8125     0.6875     0.25       1.\n",
      " 0.25       0.         0.         0.         0.4375     0.875\n",
      " 1.         0.6875     0.0625     0.        ]\n"
     ]
    },
    {
     "data": {
      "image/png": "[encoded data removed]",
      "text/plain": [
       "<Figure size 432x288 with 1 Axes>"
      ]
     },
     "metadata": {
      "needs_background": "light"
     },
     "output_type": "display_data"
    },
    {
     "name": "stdout",
     "output_type": "stream",
     "text": [
      "0\n",
      "[0.         0.         0.375      0.875      0.8125     0.1875\n",
      " 0.         0.         0.         0.         0.875      0.625\n",
      " 0.4375     0.8125     0.         0.         0.         0.25\n",
      " 0.8125     0.         0.         0.75       0.1875     0.\n",
      " 0.         0.33333333 0.6875     0.         0.         0.4375\n",
      " 0.4        0.         0.         0.28571429 0.6875     0.\n",
      " 0.         0.25       0.57142857 0.         0.         0.125\n",
      " 0.75       0.         0.         0.375      0.375      0.\n",
      " 0.         0.         0.75       0.5        0.125      0.875\n",
      " 0.125      0.         0.         0.         0.25       0.9375\n",
      " 1.         0.5625     0.         0.        ]\n"
     ]
    },
    {
     "data": {
      "image/png": "[encoded data removed]",
      "text/plain": [
       "<Figure size 432x288 with 1 Axes>"
      ]
     },
     "metadata": {
      "needs_background": "light"
     },
     "output_type": "display_data"
    },
    {
     "name": "stdout",
     "output_type": "stream",
     "text": [
      "2\n",
      "[0.         0.25       0.9375     0.8125     0.0625     0.\n",
      " 0.         0.         0.         0.8125     0.75       0.875\n",
      " 0.4375     0.         0.         0.         0.         0.5\n",
      " 0.375      0.375      0.8125     0.         0.         0.\n",
      " 0.         0.         0.         0.3125     0.9375     0.\n",
      " 0.         0.         0.         0.         0.         0.6875\n",
      " 0.625      0.         0.         0.         0.         0.\n",
      " 0.125      1.         0.3125     0.         0.         0.\n",
      " 0.         0.         0.6875     1.         0.8125     0.875\n",
      " 0.75       0.         0.         0.33333333 1.         0.875\n",
      " 0.5        0.5        0.4375     0.        ]\n"
     ]
    },
    {
     "data": {
      "image/png": "[encoded data removed]",
      "text/plain": [
       "<Figure size 432x288 with 1 Axes>"
      ]
     },
     "metadata": {
      "needs_background": "light"
     },
     "output_type": "display_data"
    },
    {
     "name": "stdout",
     "output_type": "stream",
     "text": [
      "7\n",
      "[0.         0.         0.375      0.875      1.         0.8125\n",
      " 0.         0.         0.         0.         0.5625     0.5625\n",
      " 0.5625     0.9375     0.         0.         0.         0.\n",
      " 0.         0.         0.875      0.5625     0.         0.\n",
      " 0.         0.         0.125      0.625      1.         1.\n",
      " 0.8        0.         0.         0.         0.8125     1.\n",
      " 0.75       0.4375     0.21428571 0.         0.         0.\n",
      " 0.1875     0.875      0.375      0.         0.         0.\n",
      " 0.         0.         0.375      1.         0.125      0.\n",
      " 0.         0.         0.         0.         0.625      0.8125\n",
      " 0.         0.         0.         0.        ]\n"
     ]
    },
    {
     "data": {
      "image/png": "[encoded data removed]",
      "text/plain": [
       "<Figure size 432x288 with 1 Axes>"
      ]
     },
     "metadata": {
      "needs_background": "light"
     },
     "output_type": "display_data"
    },
    {
     "name": "stdout",
     "output_type": "stream",
     "text": [
      "4\n",
      "[0.         0.         0.         0.5625     0.8125     0.\n",
      " 0.         0.         0.         0.         0.125      1.\n",
      " 0.5        0.         0.4375     0.08333333 0.         0.\n",
      " 0.625      0.8125     0.0625     0.375      1.         0.625\n",
      " 0.         0.4        1.         0.6875     0.5        0.875\n",
      " 1.         0.         0.         0.92857143 1.         1.\n",
      " 1.         1.         0.64285714 0.         0.         0.125\n",
      " 0.125      0.         0.6875     1.         0.0625     0.\n",
      " 0.         0.         0.         0.25       1.         0.4375\n",
      " 0.         0.         0.         0.         0.         0.5625\n",
      " 0.9375     0.125      0.         0.        ]\n"
     ]
    },
    {
     "data": {
      "image/png": "[encoded data removed]",
      "text/plain": [
       "<Figure size 432x288 with 1 Axes>"
      ]
     },
     "metadata": {
      "needs_background": "light"
     },
     "output_type": "display_data"
    },
    {
     "name": "stdout",
     "output_type": "stream",
     "text": [
      "3\n",
      "[0.         0.125      0.625      1.         1.         0.6875\n",
      " 0.         0.         0.         0.3125     0.625      0.5\n",
      " 0.75       1.         0.25       0.         0.         0.\n",
      " 0.         0.0625     0.625      0.875      0.         0.\n",
      " 0.         0.         0.         0.375      1.         0.25\n",
      " 0.         0.         0.         0.         0.         0.4375\n",
      " 1.         0.3125     0.         0.         0.         0.\n",
      " 0.         0.0625     0.75       1.         0.25       0.\n",
      " 0.         0.         0.125      0.25       0.5625     1.\n",
      " 0.25       0.         0.         0.11111111 0.9375     0.875\n",
      " 0.6875     0.25       0.         0.        ]\n"
     ]
    },
    {
     "data": {
      "image/png": "[encoded data removed]",
      "text/plain": [
       "<Figure size 432x288 with 1 Axes>"
      ]
     },
     "metadata": {
      "needs_background": "light"
     },
     "output_type": "display_data"
    },
    {
     "name": "stdout",
     "output_type": "stream",
     "text": [
      "5\n",
      "[0.         0.125      0.625      0.75       0.75       0.6875\n",
      " 0.         0.         0.         0.4375     0.875      0.5\n",
      " 0.5        0.375      0.         0.         0.         0.4375\n",
      " 0.6875     0.4375     0.1875     0.         0.         0.\n",
      " 0.         0.53333333 1.         0.8125     0.8125     0.5\n",
      " 0.         0.         0.         0.07142857 0.1875     0.\n",
      " 0.0625     0.875      0.35714286 0.         0.         0.\n",
      " 0.         0.         0.         0.25       0.75       0.\n",
      " 0.         0.         0.6875     0.1875     0.         0.625\n",
      " 0.75       0.         0.         0.         0.625      1.\n",
      " 1.         0.875      0.25       0.        ]\n"
     ]
    },
    {
     "data": {
      "image/png": "[encoded data removed]",
      "text/plain": [
       "<Figure size 432x288 with 1 Axes>"
      ]
     },
     "metadata": {
      "needs_background": "light"
     },
     "output_type": "display_data"
    },
    {
     "name": "stdout",
     "output_type": "stream",
     "text": [
      "0\n",
      "[0.         0.         0.125      0.875      0.8125     0.\n",
      " 0.         0.         0.         0.         0.625      0.9375\n",
      " 0.9375     0.5        0.         0.         0.         0.125\n",
      " 1.         0.4375     0.25       0.9375     0.         0.\n",
      " 0.         0.26666667 1.         0.25       0.         0.8125\n",
      " 0.46666667 0.         0.         0.28571429 1.         0.0625\n",
      " 0.         0.625      0.57142857 0.         0.         0.25\n",
      " 1.         0.3125     0.0625     0.75       0.6875     0.\n",
      " 0.         0.0625     0.9375     0.875      0.8125     1.\n",
      " 0.1875     0.         0.         0.         0.1875     0.75\n",
      " 0.8125     0.3125     0.         0.        ]\n"
     ]
    },
    {
     "data": {
      "image/png": "[encoded data removed]",
      "text/plain": [
       "<Figure size 432x288 with 1 Axes>"
      ]
     },
     "metadata": {
      "needs_background": "light"
     },
     "output_type": "display_data"
    },
    {
     "name": "stdout",
     "output_type": "stream",
     "text": [
      "1\n",
      "[0.         0.         0.         0.         0.3125     0.9375\n",
      " 0.1875     0.         0.         0.         0.         0.1875\n",
      " 0.9375     1.         0.25       0.         0.         0.1875\n",
      " 0.8125     1.         0.875      1.         0.0625     0.\n",
      " 0.         0.13333333 0.4375     0.25       0.5        1.\n",
      " 0.         0.         0.         0.         0.         0.\n",
      " 0.5        0.875      0.         0.         0.         0.\n",
      " 0.         0.         0.4375     1.         0.0625     0.\n",
      " 0.         0.         0.         0.         0.5625     1.\n",
      " 0.375      0.         0.         0.         0.         0.\n",
      " 0.5        0.9375     0.125      0.        ]\n"
     ]
    },
    {
     "data": {
      "image/png": "[encoded data removed]",
      "text/plain": [
       "<Figure size 432x288 with 1 Axes>"
      ]
     },
     "metadata": {
      "needs_background": "light"
     },
     "output_type": "display_data"
    },
    {
     "name": "stdout",
     "output_type": "stream",
     "text": [
      "8\n",
      "[0.         0.         0.0625     0.5        0.9375     0.6875\n",
      " 0.1875     0.         0.         0.         0.6875     0.75\n",
      " 0.5625     0.875      0.6875     0.         0.         0.125\n",
      " 0.875      0.         0.         0.8125     0.375      0.\n",
      " 0.         0.46666667 0.9375     0.5        0.75       0.5625\n",
      " 0.         0.         0.         0.         0.375      0.8125\n",
      " 1.         0.5        0.         0.         0.         0.\n",
      " 0.         0.8125     0.5625     0.9375     0.25       0.\n",
      " 0.         0.         0.         1.         0.5        0.875\n",
      " 0.1875     0.         0.         0.         0.         0.6875\n",
      " 0.9375     0.5        0.         0.        ]\n"
     ]
    },
    {
     "data": {
      "image/png": "[encoded data removed]",
      "text/plain": [
       "<Figure size 432x288 with 1 Axes>"
      ]
     },
     "metadata": {
      "needs_background": "light"
     },
     "output_type": "display_data"
    },
    {
     "name": "stdout",
     "output_type": "stream",
     "text": [
      "4\n",
      "[0.         0.         0.         0.5        0.9375     0.\n",
      " 0.         0.         0.         0.         0.3125     1.\n",
      " 0.375      0.         0.         0.         0.         0.0625\n",
      " 0.875      0.625      0.         0.4375     0.4375     0.\n",
      " 0.         0.33333333 1.         0.1875     0.0625     1.\n",
      " 0.46666667 0.         0.         0.57142857 1.         0.6875\n",
      " 0.8125     1.         0.21428571 0.         0.         0.0625\n",
      " 0.6875     0.9375     1.         0.8125     0.1875     0.\n",
      " 0.         0.         0.         0.4375     1.         0.0625\n",
      " 0.         0.         0.         0.         0.         0.75\n",
      " 0.625      0.         0.         0.        ]\n"
     ]
    },
    {
     "data": {
      "image/png": "[encoded data removed]",
      "text/plain": [
       "<Figure size 432x288 with 1 Axes>"
      ]
     },
     "metadata": {
      "needs_background": "light"
     },
     "output_type": "display_data"
    },
    {
     "name": "stdout",
     "output_type": "stream",
     "text": [
      "5\n",
      "[0.         0.125      0.9375     1.         1.         1.\n",
      " 0.3125     0.         0.         0.4375     1.         1.\n",
      " 0.75       0.5625     0.0625     0.         0.         0.8125\n",
      " 1.         0.1875     0.         0.         0.         0.\n",
      " 0.         0.33333333 1.         0.6875     0.         0.\n",
      " 0.         0.         0.         0.         0.625      1.\n",
      " 0.375      0.         0.         0.         0.         0.\n",
      " 0.0625     0.9375     0.6875     0.         0.         0.\n",
      " 0.         0.0625     0.25       0.875      0.75       0.\n",
      " 0.         0.         0.         0.33333333 0.9375     1.\n",
      " 0.375      0.         0.         0.        ]\n"
     ]
    },
    {
     "data": {
      "image/png": "[encoded data removed]",
      "text/plain": [
       "<Figure size 432x288 with 1 Axes>"
      ]
     },
     "metadata": {
      "needs_background": "light"
     },
     "output_type": "display_data"
    },
    {
     "name": "stdout",
     "output_type": "stream",
     "text": [
      "1\n",
      "[0.     0.     0.     1.     0.6875 0.     0.     0.     0.     0.\n",
      " 0.125  1.     1.     0.125  0.     0.     0.     0.     0.1875 1.\n",
      " 1.     0.375  0.     0.     0.     0.     0.1875 1.     0.9375 0.125\n",
      " 0.     0.     0.     0.     0.125  1.     1.     0.125  0.     0.\n",
      " 0.     0.     0.25   1.     0.9375 0.     0.     0.     0.     0.\n",
      " 0.0625 1.     0.9375 0.0625 0.     0.     0.     0.     0.     0.75\n",
      " 1.     0.125  0.     0.    ]\n"
     ]
    },
    {
     "data": {
      "image/png": "[encoded data removed]",
      "text/plain": [
       "<Figure size 432x288 with 1 Axes>"
      ]
     },
     "metadata": {
      "needs_background": "light"
     },
     "output_type": "display_data"
    },
    {
     "name": "stdout",
     "output_type": "stream",
     "text": [
      "6\n",
      "[0.         0.         0.         0.6875     0.875      0.\n",
      " 0.         0.         0.         0.         0.625      1.\n",
      " 0.25       0.         0.         0.         0.         0.0625\n",
      " 0.9375     0.6875     0.         0.         0.         0.\n",
      " 0.         0.2        1.         0.75       0.5        0.125\n",
      " 0.         0.         0.         0.5        1.         1.\n",
      " 0.75       0.875      0.21428571 0.         0.         0.25\n",
      " 1.         0.5        0.         0.625      0.5625     0.\n",
      " 0.         0.0625     0.75       0.9375     0.5625     0.875\n",
      " 0.625      0.         0.         0.         0.125      0.625\n",
      " 0.8125     0.6875     0.0625     0.        ]\n"
     ]
    },
    {
     "data": {
      "image/png": "[encoded data removed]",
      "text/plain": [
       "<Figure size 432x288 with 1 Axes>"
      ]
     },
     "metadata": {
      "needs_background": "light"
     },
     "output_type": "display_data"
    },
    {
     "name": "stdout",
     "output_type": "stream",
     "text": [
      "8\n",
      "[0.     0.     0.375  0.75   0.8125 0.4375 0.     0.     0.     0.\n",
      " 1.     0.625  1.     0.75   0.     0.     0.     0.     0.8125 0.4375\n",
      " 1.     0.5625 0.     0.     0.     0.     0.0625 0.9375 0.8125 0.\n",
      " 0.     0.     0.     0.     0.125  1.     0.8125 0.     0.     0.\n",
      " 0.     0.     0.625  0.4375 0.625  0.125  0.     0.     0.     0.\n",
      " 0.8125 0.25   0.8125 0.1875 0.     0.     0.     0.     0.4375 0.9375\n",
      " 0.5625 0.     0.     0.    ]\n"
     ]
    },
    {
     "data": {
      "image/png": "[encoded data removed]",
      "text/plain": [
       "<Figure size 432x288 with 1 Axes>"
      ]
     },
     "metadata": {
      "needs_background": "light"
     },
     "output_type": "display_data"
    },
    {
     "name": "stdout",
     "output_type": "stream",
     "text": [
      "4\n",
      "[0.         0.         0.         0.1875     0.9375     0.4375\n",
      " 0.         0.         0.         0.         0.         0.8125\n",
      " 0.875      0.1875     0.         0.         0.         0.\n",
      " 0.375      0.9375     0.125      0.375      0.375      0.\n",
      " 0.         0.13333333 0.9375     0.25       0.         0.9375\n",
      " 0.53333333 0.         0.         0.57142857 0.75       0.\n",
      " 0.25       1.         0.07142857 0.         0.         0.6875\n",
      " 0.875      0.75       1.         0.625      0.         0.\n",
      " 0.         0.125      0.5        0.4375     0.9375     0.25\n",
      " 0.         0.         0.         0.         0.         0.1875\n",
      " 1.         0.125      0.         0.        ]\n"
     ]
    },
    {
     "data": {
      "image/png": "[encoded data removed]",
      "text/plain": [
       "<Figure size 432x288 with 1 Axes>"
      ]
     },
     "metadata": {
      "needs_background": "light"
     },
     "output_type": "display_data"
    },
    {
     "name": "stdout",
     "output_type": "stream",
     "text": [
      "5\n",
      "[0.         0.         0.3125     0.5        0.75       1.\n",
      " 0.25       0.         0.         0.1875     1.         0.6875\n",
      " 0.4375     0.0625     0.         0.         0.         0.1875\n",
      " 0.875      0.375      0.25       0.         0.         0.\n",
      " 0.         0.33333333 1.         0.75       0.875      0.375\n",
      " 0.         0.         0.         0.         0.125      0.\n",
      " 0.25       0.75       0.         0.         0.         0.\n",
      " 0.         0.         0.25       0.625      0.         0.\n",
      " 0.         0.         0.375      0.5        0.875      0.4375\n",
      " 0.         0.         0.         0.         0.4375     0.8125\n",
      " 0.4375     0.         0.         0.        ]\n"
     ]
    },
    {
     "data": {
      "image/png": "[encoded data removed]",
      "text/plain": [
       "<Figure size 432x288 with 1 Axes>"
      ]
     },
     "metadata": {
      "needs_background": "light"
     },
     "output_type": "display_data"
    },
    {
     "name": "stdout",
     "output_type": "stream",
     "text": [
      "6\n",
      "[0.     0.     0.     0.75   0.8125 0.     0.     0.     0.     0.\n",
      " 0.3125 1.     0.5    0.     0.     0.     0.     0.     0.8125 1.\n",
      " 0.1875 0.     0.     0.     0.     0.     0.875  0.8125 0.     0.\n",
      " 0.     0.     0.     0.     0.9375 0.75   0.4375 0.125  0.     0.\n",
      " 0.     0.     0.8125 1.     0.8125 1.     0.1875 0.     0.     0.\n",
      " 0.4375 1.     0.6875 0.9375 0.5    0.     0.     0.     0.0625 0.5625\n",
      " 0.9375 0.6875 0.1875 0.    ]\n"
     ]
    },
    {
     "data": {
      "image/png": "[encoded data removed]",
      "text/plain": [
       "<Figure size 432x288 with 1 Axes>"
      ]
     },
     "metadata": {
      "needs_background": "light"
     },
     "output_type": "display_data"
    },
    {
     "name": "stdout",
     "output_type": "stream",
     "text": [
      "7\n",
      "[0.         0.         0.125      0.625      0.625      0.75\n",
      " 0.9375     0.66666667 0.         0.         0.5625     1.\n",
      " 0.75       0.5        0.9375     0.5        0.         0.\n",
      " 0.8125     0.5625     0.         0.25       0.75       0.125\n",
      " 0.         0.06666667 1.         0.1875     0.0625     0.8125\n",
      " 0.13333333 0.         0.         0.         0.3125     0.\n",
      " 0.5625     0.4375     0.         0.         0.         0.\n",
      " 0.         0.1875     0.8125     0.0625     0.         0.\n",
      " 0.         0.         0.         0.75       0.4375     0.\n",
      " 0.         0.         0.         0.         0.         0.875\n",
      " 0.125      0.         0.         0.        ]\n"
     ]
    },
    {
     "data": {
      "image/png": "[encoded data removed]",
      "text/plain": [
       "<Figure size 432x288 with 1 Axes>"
      ]
     },
     "metadata": {
      "needs_background": "light"
     },
     "output_type": "display_data"
    },
    {
     "name": "stdout",
     "output_type": "stream",
     "text": [
      "6\n",
      "[0.         0.         0.0625     0.8125     0.4375     0.\n",
      " 0.         0.         0.         0.         0.4375     0.875\n",
      " 0.125      0.         0.         0.         0.         0.\n",
      " 0.8125     0.3125     0.         0.         0.         0.\n",
      " 0.         0.         1.         0.1875     0.         0.\n",
      " 0.         0.         0.         0.21428571 1.         0.625\n",
      " 0.75       0.75       0.21428571 0.         0.         0.1875\n",
      " 1.         0.6875     0.3125     0.5625     0.75       0.\n",
      " 0.         0.0625     0.8125     0.6875     0.25       0.8125\n",
      " 0.6875     0.         0.         0.         0.0625     0.75\n",
      " 1.         0.6875     0.125      0.        ]\n"
     ]
    },
    {
     "data": {
      "image/png": "[encoded data removed]",
      "text/plain": [
       "<Figure size 432x288 with 1 Axes>"
      ]
     },
     "metadata": {
      "needs_background": "light"
     },
     "output_type": "display_data"
    },
    {
     "name": "stdout",
     "output_type": "stream",
     "text": [
      "7\n",
      "[0.     0.     0.625  1.     0.875  0.0625 0.     0.     0.     0.\n",
      " 0.875  1.     1.     0.4375 0.     0.     0.     0.     0.0625 0.3125\n",
      " 1.     0.4375 0.     0.     0.     0.     0.125  0.625  1.     0.6875\n",
      " 0.4    0.     0.     0.5    1.     1.     0.9375 0.75   0.5    0.\n",
      " 0.     0.6875 0.625  0.9375 0.625  0.     0.     0.     0.     0.\n",
      " 0.375  1.     0.125  0.     0.     0.     0.     0.     0.8125 0.5625\n",
      " 0.     0.     0.     0.    ]\n"
     ]
    },
    {
     "data": {
      "image/png": "[encoded data removed]",
      "text/plain": [
       "<Figure size 432x288 with 1 Axes>"
      ]
     },
     "metadata": {
      "needs_background": "light"
     },
     "output_type": "display_data"
    },
    {
     "name": "stdout",
     "output_type": "stream",
     "text": [
      "9\n",
      "[0.         0.         0.25       0.8125     0.8125     0.25\n",
      " 0.         0.         0.         0.         1.         0.625\n",
      " 0.625      0.5        0.         0.         0.         0.\n",
      " 0.875      0.4375     0.375      0.6875     0.         0.\n",
      " 0.         0.         0.375      0.9375     0.9375     1.\n",
      " 0.13333333 0.         0.         0.         0.         0.\n",
      " 0.         0.6875     0.35714286 0.         0.         0.\n",
      " 0.         0.         0.         0.4375     0.5625     0.\n",
      " 0.         0.0625     0.25       0.25       0.375      0.75\n",
      " 0.625      0.         0.         0.11111111 0.375      0.6875\n",
      " 0.9375     0.75       0.0625     0.        ]\n"
     ]
    },
    {
     "data": {
      "image/png": "[encoded data removed]",
      "text/plain": [
       "<Figure size 432x288 with 1 Axes>"
      ]
     },
     "metadata": {
      "needs_background": "light"
     },
     "output_type": "display_data"
    },
    {
     "name": "stdout",
     "output_type": "stream",
     "text": [
      "2\n",
      "[0.         0.         0.         0.25       0.9375     0.75\n",
      " 0.         0.         0.         0.         0.1875     1.\n",
      " 0.9375     0.875      0.         0.         0.         0.\n",
      " 0.5        0.8125     0.5        1.         0.         0.\n",
      " 0.         0.         0.0625     0.375      0.9375     0.6875\n",
      " 0.         0.         0.         0.07142857 0.5        0.8125\n",
      " 0.9375     0.0625     0.         0.         0.         0.5625\n",
      " 1.         1.         0.3125     0.         0.         0.\n",
      " 0.         0.1875     0.8125     1.         1.         0.6875\n",
      " 0.3125     0.         0.         0.         0.         0.1875\n",
      " 0.6875     1.         0.5625     0.        ]\n"
     ]
    },
    {
     "data": {
      "image/png": "[encoded data removed]",
      "text/plain": [
       "<Figure size 432x288 with 1 Axes>"
      ]
     },
     "metadata": {
      "needs_background": "light"
     },
     "output_type": "display_data"
    },
    {
     "name": "stdout",
     "output_type": "stream",
     "text": [
      "7\n",
      "[0.         0.         0.         0.6875     1.         1.\n",
      " 0.625      0.         0.         0.         0.625      0.75\n",
      " 0.5625     0.9375     0.5625     0.         0.         0.\n",
      " 0.8125     0.5        0.         0.75       0.3125     0.\n",
      " 0.         0.         0.375      0.         0.25       0.75\n",
      " 0.         0.         0.         0.         0.125      0.9375\n",
      " 1.         1.         0.64285714 0.         0.         0.\n",
      " 0.375      0.8125     0.9375     0.5625     0.0625     0.\n",
      " 0.         0.         0.         0.5625     0.5625     0.\n",
      " 0.         0.         0.         0.         0.0625     0.875\n",
      " 0.25       0.         0.         0.        ]\n"
     ]
    },
    {
     "data": {
      "image/png": "[encoded data removed]",
      "text/plain": [
       "<Figure size 432x288 with 1 Axes>"
      ]
     },
     "metadata": {
      "needs_background": "light"
     },
     "output_type": "display_data"
    },
    {
     "name": "stdout",
     "output_type": "stream",
     "text": [
      "3\n",
      "[0.         0.         0.625      1.         0.625      0.0625\n",
      " 0.         0.         0.         0.375      0.875      0.375\n",
      " 1.         0.1875     0.         0.         0.         0.3125\n",
      " 0.25       0.3125     0.9375     0.         0.         0.\n",
      " 0.         0.         0.         0.75       0.875      0.0625\n",
      " 0.         0.         0.         0.         0.         0.1875\n",
      " 0.6875     0.9375     0.07142857 0.         0.         0.\n",
      " 0.         0.         0.         0.625      0.5        0.\n",
      " 0.         0.         0.5625     0.5        0.5        0.9375\n",
      " 0.375      0.         0.         0.         0.5625     0.9375\n",
      " 0.9375     0.5625     0.         0.        ]\n"
     ]
    },
    {
     "data": {
      "image/png": "[encoded data removed]",
      "text/plain": [
       "<Figure size 432x288 with 1 Axes>"
      ]
     },
     "metadata": {
      "needs_background": "light"
     },
     "output_type": "display_data"
    },
    {
     "name": "stdout",
     "output_type": "stream",
     "text": [
      "4\n",
      "[0.         0.         0.         0.25       0.75       0.\n",
      " 0.         0.         0.         0.         0.         0.75\n",
      " 1.         0.5        0.         0.         0.         0.\n",
      " 0.25       1.         0.9375     0.5        0.         0.\n",
      " 0.         0.06666667 0.9375     0.5        0.875      0.4375\n",
      " 0.         0.         0.         0.42857143 1.         0.5\n",
      " 0.875      0.875      0.28571429 0.         0.         0.625\n",
      " 1.         1.         1.         0.8125     0.0625     0.\n",
      " 0.         0.         0.         0.125      1.         0.25\n",
      " 0.         0.         0.         0.         0.         0.25\n",
      " 0.8125     0.125      0.         0.        ]\n"
     ]
    },
    {
     "data": {
      "image/png": "[encoded data removed]",
      "text/plain": [
       "<Figure size 432x288 with 1 Axes>"
      ]
     },
     "metadata": {
      "needs_background": "light"
     },
     "output_type": "display_data"
    },
    {
     "name": "stdout",
     "output_type": "stream",
     "text": [
      "8\n",
      "[0.     0.     0.25   0.6875 0.9375 0.125  0.     0.     0.     0.125\n",
      " 1.     0.5625 0.5    0.5625 0.     0.     0.     0.25   0.9375 0.\n",
      " 0.3125 1.     0.1875 0.     0.     0.     0.6875 0.6875 1.     0.5625\n",
      " 0.     0.     0.     0.     0.25   1.     0.9375 0.0625 0.     0.\n",
      " 0.     0.     0.8125 0.5625 0.375  0.75   0.0625 0.     0.     0.\n",
      " 0.9375 0.1875 0.     0.5625 0.3125 0.     0.     0.     0.3125 0.8125\n",
      " 0.8125 0.75   0.3125 0.    ]\n"
     ]
    },
    {
     "data": {
      "image/png": "[encoded data removed]",
      "text/plain": [
       "<Figure size 432x288 with 1 Axes>"
      ]
     },
     "metadata": {
      "needs_background": "light"
     },
     "output_type": "display_data"
    }
   ],
   "source": [
    "# visualizing the representative digits\n",
    "for i in range(0,50):\n",
    "    plt.imshow(X_representative_digits[i].reshape((8, 8)))\n",
    "    print(y_representative_digits[i])\n",
    "    print(X_representative_digits[i])\n",
    "    plt.show()\n"
   ]
  },
  {
   "cell_type": "code",
   "execution_count": 77,
   "id": "monetary-stress",
   "metadata": {},
   "outputs": [
    {
     "name": "stdout",
     "output_type": "stream",
     "text": [
      "Fitting 5 folds for each of 48 candidates, totalling 240 fits\n"
     ]
    },
    {
     "name": "stderr",
     "output_type": "stream",
     "text": [
      "C:\\Python3\\lib\\site-packages\\sklearn\\model_selection\\_split.py:666: UserWarning: The least populated class in y has only 3 members, which is less than n_splits=5.\n",
      "  warnings.warn((\"The least populated class in y has only %d\"\n"
     ]
    },
    {
     "name": "stdout",
     "output_type": "stream",
     "text": [
      "SVM : \n",
      "{'C': 3, 'gamma': 0.1, 'kernel': 'rbf'}\n",
      "Averange Accuracy Scores - SVM: 1.0\n",
      "Confusion matrix - SVM: \n",
      " [[3 0 0 0 0 0 0 0 0 0]\n",
      " [0 6 0 0 0 0 0 0 0 0]\n",
      " [0 0 5 0 0 0 0 0 0 0]\n",
      " [0 0 0 4 0 0 0 0 0 0]\n",
      " [0 0 0 0 5 0 0 0 0 0]\n",
      " [0 0 0 0 0 5 0 0 0 0]\n",
      " [0 0 0 0 0 0 6 0 0 0]\n",
      " [0 0 0 0 0 0 0 6 0 0]\n",
      " [0 0 0 0 0 0 0 0 4 0]\n",
      " [0 0 0 0 0 0 0 0 0 6]]\n"
     ]
    }
   ],
   "source": [
    "def Pro_model(X, y, y_pro):\n",
    "    estimator_SVM = SVC()\n",
    "\n",
    "    parameters_SVM = {\n",
    "        \"C\": [0.5, 1, 3, 5, 11, 20],\n",
    "        \"gamma\": (0.1, 10.0, 1.0, 3),\n",
    "        \"kernel\": (\"linear\", \"rbf\"),\n",
    "    }\n",
    "\n",
    "    # with GridSearch\n",
    "    grid_search_SVM = GridSearchCV(\n",
    "        estimator=estimator_SVM,\n",
    "        param_grid=parameters_SVM,\n",
    "        scoring=\"accuracy\",\n",
    "        n_jobs=-1,\n",
    "        return_train_score=True,\n",
    "        cv=5,\n",
    "        verbose=3,\n",
    "    )\n",
    "    # fit the SVM model\n",
    "\n",
    "    Pro_model = grid_search_SVM.fit(X, y_pro)\n",
    "\n",
    "    # predicting on training and test data-set\n",
    "    Y_pred = Pro_model.predict(X)\n",
    "\n",
    "    # Assess the performance\n",
    "    print(\"SVM : \")\n",
    "    print(grid_search_SVM.best_params_)\n",
    "    print(\"Averange Accuracy Scores - SVM:\", metrics.accuracy_score(y, Y_pred))\n",
    "    # print(\"Precision score - SVM: \", precision_score(y, Y_pred))\n",
    "    # print(\"Recall score - SVM: \", recall_score(y, Y_pred))\n",
    "    # print(\"F1 score - SVM: \", f1_score(y, Y_pred))\n",
    "    print(\"Confusion matrix - SVM: \\n\", confusion_matrix(y, Y_pred))\n",
    "    # tn, fp, fn, tp = confusion_matrix(y, Y_pred).ravel()\n",
    "    # print(\"tn = \", tn, \"fp = \", fp, \"fn = \", fn, \"tp = \", tp)\n",
    "    return Pro_model\n",
    "\n",
    "\n",
    "Pro_model = Pro_model(X_representative_digits, y_representative_digits, y_representative_digits)"
   ]
  },
  {
   "cell_type": "code",
   "execution_count": 78,
   "id": "prostate-moldova",
   "metadata": {},
   "outputs": [
    {
     "name": "stdout",
     "output_type": "stream",
     "text": [
      "SVM : \n",
      "{'C': 3, 'gamma': 0.1, 'kernel': 'rbf'}\n",
      "Averange Accuracy Scores - SVM: 0.9333333333333333\n",
      "Confusion matrix - SVM: \n",
      " [[35  0  0  0  0  0  0  0  0  0]\n",
      " [ 0 35  0  0  0  0  0  0  0  0]\n",
      " [ 0  1 34  0  0  0  0  1  0  0]\n",
      " [ 0  0  1 31  0  1  0  0  3  1]\n",
      " [ 0  1  0  0 30  0  0  1  0  0]\n",
      " [ 0  0  0  0  0 45  0  0  0  1]\n",
      " [ 0  0  0  0  0  0 30  0  0  0]\n",
      " [ 0  0  0  0  0  0  0 41  0  1]\n",
      " [ 0  8  1  0  0  0  0  0 28  1]\n",
      " [ 0  0  0  0  0  2  0  0  0 27]]\n"
     ]
    }
   ],
   "source": [
    "def Test(X, y, model):\n",
    "    model.score(X, y)\n",
    "    Y_pred = model.predict(X)\n",
    "\n",
    "    # Assess the performance\n",
    "    print(\"SVM : \")\n",
    "    print(model.best_params_)\n",
    "    print(\"Averange Accuracy Scores - SVM:\", metrics.accuracy_score(y, Y_pred))\n",
    "    # print(\"Precision score - SVM: \", precision_score(y, Y_pred))\n",
    "    # print(\"Recall score - SVM: \", recall_score(y, Y_pred))\n",
    "    # print(\"F1 score - SVM: \", f1_score(y, Y_pred))\n",
    "    print(\"Confusion matrix - SVM: \\n\", confusion_matrix(y, Y_pred))\n",
    "    # tn, fp, fn, tp = confusion_matrix(y, Y_pred).ravel()\n",
    "    # print(\"tn = \", tn, \"fp = \", fp, \"fn = \", fn, \"tp = \", tp)\n",
    "\n",
    "\n",
    "Test(X_test, y_test, Pro_model)"
   ]
  },
  {
   "cell_type": "markdown",
   "id": "effective-sunday",
   "metadata": {},
   "source": [
    "## Partial propagation\n"
   ]
  },
  {
   "cell_type": "code",
   "execution_count": 50,
   "id": "approved-orange",
   "metadata": {},
   "outputs": [],
   "source": [
    "percentile_closest = 90\n",
    "\n",
    "#create a list  with the minimum distances from the centroid of each item\n",
    "X_cluster_dist = X_digits_dist[np.arange(len(X_train)), kmeans.labels_] \n",
    "\n",
    "# for each representative images\n",
    "for i in range(50):    \n",
    "    in_cluster = kmeans.labels_ == i #Array of true value for each kmeans label\n",
    "    cluster_dist = X_cluster_dist[in_cluster] # extract erray of distances of each labelled point from the centroid\n",
    "    cutoff_distance = np.percentile(cluster_dist, percentile_closest) # for the label find the 20th percentile of the distances\n",
    "    above_cutoff = X_cluster_dist > cutoff_distance # array of TRUE for items above the 20th percetile\n",
    "    X_cluster_dist[in_cluster & above_cutoff] = -1 # keep the items below the 20th percentile for each label\n",
    "\n",
    "partially_propagated = X_cluster_dist != -1 # keep the items below the 20th percentile for whole distribution\n",
    "X_train_partially_propagated = X_train[partially_propagated]\n",
    "y_train_partially_propagated = y_train_propagated[partially_propagated]"
   ]
  },
  {
   "cell_type": "code",
   "execution_count": 51,
   "id": "equipped-ghost",
   "metadata": {},
   "outputs": [
    {
     "data": {
      "text/plain": [
       "1274"
      ]
     },
     "execution_count": 51,
     "metadata": {},
     "output_type": "execute_result"
    }
   ],
   "source": [
    "\n",
    "sum(partially_propagated)\n",
    "\n"
   ]
  },
  {
   "cell_type": "code",
   "execution_count": 62,
   "id": "virtual-spirituality",
   "metadata": {},
   "outputs": [
    {
     "name": "stdout",
     "output_type": "stream",
     "text": [
      "Fitting 5 folds for each of 80 candidates, totalling 400 fits\n",
      "SVM : \n",
      "{'C': 3, 'gamma': 0.5, 'kernel': 'rbf'}\n",
      "Averange Accuracy Scores - SVM: 1.0\n",
      "Confusion matrix - SVM: \n",
      " [[126   0   0   0   0   0   0   0   0   0]\n",
      " [  0 137   0   0   0   0   0   0   0   0]\n",
      " [  0   0 136   0   0   0   0   0   0   0]\n",
      " [  0   0   0 118   0   0   0   0   0   0]\n",
      " [  0   0   0   0 128   0   0   0   0   0]\n",
      " [  0   0   0   0   0 120   0   0   0   0]\n",
      " [  0   0   0   0   0   0 136   0   0   0]\n",
      " [  0   0   0   0   0   0   0 123   0   0]\n",
      " [  0   0   0   0   0   0   0   0 111   0]\n",
      " [  0   0   0   0   0   0   0   0   0 139]]\n"
     ]
    }
   ],
   "source": [
    "def Par_Pro_Model(X, y):\n",
    "    estimator_SVM = SVC(probability=True)\n",
    "\n",
    "    parameters_SVM = {\n",
    "        \"C\": [0.001, 0.1, 0.5, 1, 3, 5, 11, 20],\n",
    "        \"gamma\": (0.01, 0.1, 0.5, 1.0, 3),\n",
    "        \"kernel\": (\"linear\", \"rbf\"),\n",
    "        \n",
    "    }\n",
    "\n",
    "    # with GridSearch\n",
    "    grid_search_SVM = GridSearchCV(\n",
    "        estimator=estimator_SVM,\n",
    "        param_grid=parameters_SVM,\n",
    "        scoring=\"accuracy\",\n",
    "        n_jobs=-1,\n",
    "        return_train_score=True,\n",
    "        cv=5,\n",
    "        verbose=3,\n",
    "        \n",
    "    )\n",
    "    # fit the SVM model\n",
    "\n",
    "    model = grid_search_SVM.fit(X, y)\n",
    "\n",
    "    # predicting on training and test data-set\n",
    "    Y_pred = model.predict(X)\n",
    "\n",
    "    # Assess the performance\n",
    "    print(\"SVM : \")\n",
    "    print(grid_search_SVM.best_params_)\n",
    "    print(\"Averange Accuracy Scores - SVM:\", metrics.accuracy_score(y, Y_pred))\n",
    "    # print(\"Precision score - SVM: \", precision_score(y, Y_pred))\n",
    "    # print(\"Recall score - SVM: \", recall_score(y, Y_pred))\n",
    "    # print(\"F1 score - SVM: \", f1_score(y, Y_pred))\n",
    "    print(\"Confusion matrix - SVM: \\n\", confusion_matrix(y, Y_pred))\n",
    "    # tn, fp, fn, tp = confusion_matrix(y, Y_pred).ravel()\n",
    "    # print(\"tn = \", tn, \"fp = \", fp, \"fn = \", fn, \"tp = \", tp)\n",
    "\n",
    "    return model\n",
    "\n",
    "\n",
    "Par_Pro_Model = Par_Pro_Model(    X_train_partially_propagated, y_train_partially_propagated)"
   ]
  },
  {
   "cell_type": "code",
   "execution_count": 53,
   "id": "comprehensive-collaboration",
   "metadata": {},
   "outputs": [
    {
     "name": "stdout",
     "output_type": "stream",
     "text": [
      "SVM : \n",
      "{'C': 3, 'gamma': 0.5, 'kernel': 'rbf'}\n",
      "Averange Accuracy Scores - SVM: 0.9583333333333334\n",
      "Confusion matrix - SVM: \n",
      " [[35  0  0  0  0  0  0  0  0  0]\n",
      " [ 0 35  0  0  0  0  0  0  0  0]\n",
      " [ 0  0 35  0  0  0  0  1  0  0]\n",
      " [ 0  0  0 33  0  1  0  0  2  1]\n",
      " [ 0  0  0  0 31  0  0  0  0  1]\n",
      " [ 0  0  0  0  0 45  0  0  0  1]\n",
      " [ 0  0  0  0  0  0 29  0  1  0]\n",
      " [ 0  0  0  0  0  0  0 41  0  1]\n",
      " [ 0  2  3  0  0  0  0  0 33  0]\n",
      " [ 0  0  0  0  0  1  0  0  0 28]]\n"
     ]
    }
   ],
   "source": [
    "def Test(X, y, model):\n",
    "    model.score(X, y)\n",
    "    Y_pred = model.predict(X)\n",
    "\n",
    "    # Assess the performance\n",
    "    print(\"SVM : \")\n",
    "    print(model.best_params_)\n",
    "    print(\"Averange Accuracy Scores - SVM:\", metrics.accuracy_score(y, Y_pred))\n",
    "    # print(\"Precision score - SVM: \", precision_score(y, Y_pred))\n",
    "    # print(\"Recall score - SVM: \", recall_score(y, Y_pred))\n",
    "    # print(\"F1 score - SVM: \", f1_score(y, Y_pred))\n",
    "    print(\"Confusion matrix - SVM: \\n\", confusion_matrix(y, Y_pred))\n",
    "    # tn, fp, fn, tp = confusion_matrix(y, Y_pred).ravel()\n",
    "    # print(\"tn = \", tn, \"fp = \", fp, \"fn = \", fn, \"tp = \", tp)\n",
    "\n",
    "\n",
    "Test(X_test, y_test, Par_Pro_Model)"
   ]
  },
  {
   "cell_type": "markdown",
   "id": "opening-southwest",
   "metadata": {},
   "source": [
    "## New Items to predict"
   ]
  },
  {
   "cell_type": "code",
   "execution_count": 169,
   "id": "found-species",
   "metadata": {
    "scrolled": true
   },
   "outputs": [
    {
     "name": "stdout",
     "output_type": "stream",
     "text": [
      "Prediction with full model:  [1]\n",
      "Prediction with semi-supervised model:  [1]\n",
      "Prediction with semi-supervised model (90%):  [1]\n"
     ]
    },
    {
     "data": {
      "image/png": "[encoded data removed]",
      "text/plain": [
       "<Figure size 432x288 with 1 Axes>"
      ]
     },
     "metadata": {
      "needs_background": "light"
     },
     "output_type": "display_data"
    }
   ],
   "source": [
    "import matplotlib.image as mpimg\n",
    "from sklearn.preprocessing import KBinsDiscretizer\n",
    "from PIL import Image\n",
    "import cv2\n",
    "import PIL\n",
    "\n",
    "def recognize(N, model1, model2, model3):\n",
    "\n",
    "    n = Image.open(N).resize((8,8))\n",
    "    n = n.convert('L')\n",
    "    n = np.array(n)\n",
    "    \n",
    "    est = KBinsDiscretizer(n_bins=17, encode='ordinal', strategy='uniform')\n",
    "    est.fit(n)\n",
    "    n = est.transform(n)\n",
    "    n=(abs(n-16))\n",
    "\n",
    "    scaler = MinMaxScaler(feature_range=(0, 1))\n",
    "    n= scaler.fit_transform(n)\n",
    "    plt.imshow(n)\n",
    "    \n",
    "    \n",
    "    n = n.reshape(1, 64)\n",
    "    n_pred = model1.predict(n)\n",
    "    print(\"Prediction with full model: \",n_pred)\n",
    "    one_pred = model2.predict(n)\n",
    "    print(\"Prediction with semi-supervised model: \",n_pred)\n",
    "    one_pred = model3.predict(n)\n",
    "    print(\"Prediction with semi-supervised model (90%): \",n_pred)\n",
    "    \n",
    "recognize('1.PNG', FullModel,Pro_model, Par_Pro_Model)\n"
   ]
  }
 ],
 "metadata": {
  "kernelspec": {
   "display_name": "Python 3",
   "language": "python",
   "name": "python3"
  },
  "language_info": {
   "codemirror_mode": {
    "name": "ipython",
    "version": 3
   },
   "file_extension": ".py",
   "mimetype": "text/x-python",
   "name": "python",
   "nbconvert_exporter": "python",
   "pygments_lexer": "ipython3",
   "version": "3.8.8"
  }
 },
 "nbformat": 4,
 "nbformat_minor": 5
}
